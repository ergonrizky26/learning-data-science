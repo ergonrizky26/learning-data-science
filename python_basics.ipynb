{
  "nbformat": 4,
  "nbformat_minor": 0,
  "metadata": {
    "colab": {
      "provenance": [],
      "authorship_tag": "ABX9TyMq2nOHRBvOsC8r9d4G0tg4",
      "include_colab_link": true
    },
    "kernelspec": {
      "name": "python3",
      "display_name": "Python 3"
    },
    "language_info": {
      "name": "python"
    }
  },
  "cells": [
    {
      "cell_type": "markdown",
      "metadata": {
        "id": "view-in-github",
        "colab_type": "text"
      },
      "source": [
        "<a href=\"https://colab.research.google.com/github/ergonrizky26/learning-data-science/blob/main/python_basics.ipynb\" target=\"_parent\"><img src=\"https://colab.research.google.com/assets/colab-badge.svg\" alt=\"Open In Colab\"/></a>"
      ]
    },
    {
      "cell_type": "markdown",
      "source": [
        "## FUNGSI\n",
        "\n",
        "**Fungsi** adalah kode yang digunakan untuk menjalankan suatu aksi\n",
        "Contoh fungsi adalah **print()** yang digunakan untuk menampilkan argumen pada output"
      ],
      "metadata": {
        "id": "ddLUbu3n7a_u"
      }
    },
    {
      "cell_type": "code",
      "source": [
        "print('Ergon Rizky')"
      ],
      "metadata": {
        "colab": {
          "base_uri": "https://localhost:8080/"
        },
        "id": "9hcUjKaX8Cs6",
        "outputId": "e9cd0e77-9143-4711-ab39-c49a67045e4c"
      },
      "execution_count": null,
      "outputs": [
        {
          "output_type": "stream",
          "name": "stdout",
          "text": [
            "Ergon Rizky\n"
          ]
        }
      ]
    },
    {
      "cell_type": "code",
      "source": [
        "print('17 Maret 2025')"
      ],
      "metadata": {
        "colab": {
          "base_uri": "https://localhost:8080/"
        },
        "id": "DAW42mVN8QKC",
        "outputId": "c029813b-49de-40be-bbb0-269100745054"
      },
      "execution_count": null,
      "outputs": [
        {
          "output_type": "stream",
          "name": "stdout",
          "text": [
            "17 Maret 2025\n"
          ]
        }
      ]
    },
    {
      "cell_type": "code",
      "source": [
        "print(100/10)"
      ],
      "metadata": {
        "colab": {
          "base_uri": "https://localhost:8080/"
        },
        "id": "s_MJ4VMC8TZS",
        "outputId": "bc4a206e-0e62-44a6-cb2c-709dfc185cc3"
      },
      "execution_count": null,
      "outputs": [
        {
          "output_type": "stream",
          "name": "stdout",
          "text": [
            "10.0\n"
          ]
        }
      ]
    },
    {
      "cell_type": "code",
      "source": [
        "print(2*5)"
      ],
      "metadata": {
        "colab": {
          "base_uri": "https://localhost:8080/"
        },
        "id": "ns8m_t9R8U1h",
        "outputId": "5ca70171-3373-46d2-b641-0f1f71dc50a4"
      },
      "execution_count": null,
      "outputs": [
        {
          "output_type": "stream",
          "name": "stdout",
          "text": [
            "10\n"
          ]
        }
      ]
    },
    {
      "cell_type": "code",
      "source": [
        "print(type(100/10))"
      ],
      "metadata": {
        "colab": {
          "base_uri": "https://localhost:8080/"
        },
        "id": "xK44V8zA8Wa9",
        "outputId": "16bd88b2-4d69-4d6d-c904-cf95169c0ed6"
      },
      "execution_count": null,
      "outputs": [
        {
          "output_type": "stream",
          "name": "stdout",
          "text": [
            "<class 'float'>\n"
          ]
        }
      ]
    },
    {
      "cell_type": "code",
      "source": [
        "print(len('Ergon Rizky'))"
      ],
      "metadata": {
        "colab": {
          "base_uri": "https://localhost:8080/"
        },
        "id": "Vd45E2ZD8YfY",
        "outputId": "26b5f843-2d6b-4840-a961-77cdc1eeddca"
      },
      "execution_count": null,
      "outputs": [
        {
          "output_type": "stream",
          "name": "stdout",
          "text": [
            "11\n"
          ]
        }
      ]
    },
    {
      "cell_type": "markdown",
      "source": [],
      "metadata": {
        "id": "1gsE68G_84Cn"
      }
    },
    {
      "cell_type": "markdown",
      "source": [
        "## VARIABEL\n",
        "\n",
        "**Variabel** adalah container yang dipakai untuk menyimpan data. Variabel dipakai agar tidak perlu mengulang menuliskan data setiap akan menjalankan suatu fungsi terhadap data tersebut. Dibuat dengan menuliskan nama variabel diikutin dengan **'='**"
      ],
      "metadata": {
        "id": "vnnREewK84fm"
      }
    },
    {
      "cell_type": "code",
      "source": [
        "# Contoh variabel\n",
        "int_a = 10;\n",
        "float_a = 10.5;\n",
        "string_a = 'contoh string';\n",
        "boolean_a = True;"
      ],
      "metadata": {
        "id": "E3oOAfdUAVru"
      },
      "execution_count": null,
      "outputs": []
    },
    {
      "cell_type": "markdown",
      "source": [
        "## TIPE DATA\n",
        "\n",
        "Beberapa tipe data yang dikenal oleh **Python**:\n",
        "1. Integer -> Bilangan bulat\n",
        "2. Float -> Bilangan pecahan\n",
        "3. String -> Teks\n",
        "4. Boolean -> True/*False*"
      ],
      "metadata": {
        "id": "cWqvKYQR_eN-"
      }
    },
    {
      "cell_type": "code",
      "source": [
        "# Identifikasi tipe data\n",
        "print(type(int_a))\n",
        "print(type(float_a))\n",
        "print(type(string_a))\n",
        "print(type(boolean_a))"
      ],
      "metadata": {
        "colab": {
          "base_uri": "https://localhost:8080/"
        },
        "id": "93uPngGq_mG_",
        "outputId": "2cf9482a-aac5-4d81-d2c5-2098d5cb3379"
      },
      "execution_count": null,
      "outputs": [
        {
          "output_type": "stream",
          "name": "stdout",
          "text": [
            "<class 'int'>\n",
            "<class 'float'>\n",
            "<class 'str'>\n",
            "<class 'bool'>\n"
          ]
        }
      ]
    },
    {
      "cell_type": "markdown",
      "source": [
        "## LIST\n",
        "\n",
        "**List** adalah kumpulan data yang terstruktur dengan urutan tertentu. Dibuat dengan menuliskan **'['** dan **']'** dan dipisahkan dengan **','**. Dalam list, tiap data memiliki index dengan urutan dari 0, 1, 2, dst"
      ],
      "metadata": {
        "id": "2rPAwmYlBaQO"
      }
    },
    {
      "cell_type": "markdown",
      "source": [
        "**Index** diperlukan untuk **subsetting** : mendidentifikasi/memanggil data dengan urutan tertentu dari list"
      ],
      "metadata": {
        "id": "cq6H_XufCKX0"
      }
    },
    {
      "cell_type": "code",
      "source": [
        "warna = ['merah', 'kuning', 'biru']\n",
        "warna[1]"
      ],
      "metadata": {
        "colab": {
          "base_uri": "https://localhost:8080/",
          "height": 35
        },
        "id": "6rFnbyx6CUhB",
        "outputId": "c17ad12a-23f9-4d51-9e8a-f2756135a184"
      },
      "execution_count": null,
      "outputs": [
        {
          "output_type": "execute_result",
          "data": {
            "text/plain": [
              "'kuning'"
            ],
            "application/vnd.google.colaboratory.intrinsic+json": {
              "type": "string"
            }
          },
          "metadata": {},
          "execution_count": 9
        }
      ]
    },
    {
      "cell_type": "code",
      "source": [
        "warna[-1] # Indeks -1 menunjukkan data dengan urutan terakhir"
      ],
      "metadata": {
        "colab": {
          "base_uri": "https://localhost:8080/",
          "height": 35
        },
        "id": "255rdHTVC1pn",
        "outputId": "c2a16e48-ec9a-4a9c-fae4-d04e9cf3fe15"
      },
      "execution_count": null,
      "outputs": [
        {
          "output_type": "execute_result",
          "data": {
            "text/plain": [
              "'biru'"
            ],
            "application/vnd.google.colaboratory.intrinsic+json": {
              "type": "string"
            }
          },
          "metadata": {},
          "execution_count": 10
        }
      ]
    },
    {
      "cell_type": "markdown",
      "source": [],
      "metadata": {
        "id": "2CgH71GbDH3Y"
      }
    },
    {
      "cell_type": "markdown",
      "source": [
        "## SLICING PADA LIST\n",
        "\n",
        "**Slicing** adalah proses memotong list dengan range indeks tertentu. Range indeks ditulis dengan **['indeks awal : 'indeks akhir']**. </br>\n",
        "Indeks awal akan diikutsertakan pada output, sedangkan Indeks akhir tidak diikutsertakan pada output."
      ],
      "metadata": {
        "id": "dRCHXF0NDIHW"
      }
    },
    {
      "cell_type": "markdown",
      "source": [
        "### Latihan List dan Slicing"
      ],
      "metadata": {
        "id": "4jG6wE6jEkg1"
      }
    },
    {
      "cell_type": "code",
      "source": [
        "nama = 'ergon rizky'\n",
        "jarak_km = 5\n",
        "jarak_mil = 5 * 0.62\n",
        "jarak_beda = jarak_km == jarak_mil\n",
        "\n",
        "print(type(nama))\n",
        "print(type(jarak_km))\n",
        "print(type(jarak_mil))\n",
        "print(type(jarak_beda))"
      ],
      "metadata": {
        "colab": {
          "base_uri": "https://localhost:8080/"
        },
        "id": "3bGfMSPGEmJF",
        "outputId": "1ddf32d7-378d-4682-cdf2-87b83cf42090"
      },
      "execution_count": null,
      "outputs": [
        {
          "output_type": "stream",
          "name": "stdout",
          "text": [
            "<class 'str'>\n",
            "<class 'int'>\n",
            "<class 'float'>\n",
            "<class 'bool'>\n"
          ]
        }
      ]
    },
    {
      "cell_type": "code",
      "source": [
        "list_a = [nama, jarak_km, jarak_mil, jarak_beda]\n",
        "list_a"
      ],
      "metadata": {
        "colab": {
          "base_uri": "https://localhost:8080/"
        },
        "id": "9XxvX6YhE55A",
        "outputId": "e6c82224-b5f5-490a-c9f5-f2938ecd1a02"
      },
      "execution_count": null,
      "outputs": [
        {
          "output_type": "execute_result",
          "data": {
            "text/plain": [
              "['ergon rizky', 5, 3.1, False]"
            ]
          },
          "metadata": {},
          "execution_count": 12
        }
      ]
    },
    {
      "cell_type": "code",
      "source": [
        "# Slice 2 data terakhir\n",
        "list_a[2:]"
      ],
      "metadata": {
        "colab": {
          "base_uri": "https://localhost:8080/"
        },
        "id": "npUjK5aTFFEl",
        "outputId": "979f82fd-d8f7-40e3-8593-d0c32beaae04"
      },
      "execution_count": null,
      "outputs": [
        {
          "output_type": "execute_result",
          "data": {
            "text/plain": [
              "[3.1, False]"
            ]
          },
          "metadata": {},
          "execution_count": 16
        }
      ]
    },
    {
      "cell_type": "code",
      "source": [
        "# Slice 2 data pertama\n",
        "list_a[:2]"
      ],
      "metadata": {
        "colab": {
          "base_uri": "https://localhost:8080/"
        },
        "id": "fJMwA3KhFZER",
        "outputId": "d3aa4d3f-f747-4355-e39e-12150de5692c"
      },
      "execution_count": null,
      "outputs": [
        {
          "output_type": "execute_result",
          "data": {
            "text/plain": [
              "['ergon rizky', 5]"
            ]
          },
          "metadata": {},
          "execution_count": 17
        }
      ]
    },
    {
      "cell_type": "markdown",
      "source": [],
      "metadata": {
        "id": "WapgxUUL1bW2"
      }
    },
    {
      "cell_type": "markdown",
      "source": [
        "## METODE\n",
        "\n",
        "**Metode** adalah fungsi yang dimiliki oleh objek <br>\n",
        "1. Contoh metode yg dimiliki oleh objek string :\n",
        "-> **upper()** <br>\n",
        "-> **count()** <br>\n",
        "2. Contoh metode yg dimiliki oleh objek list :    \n",
        "-> **index()** <br>\n",
        "-> **count()**\n"
      ],
      "metadata": {
        "id": "TEmbu1rZ1bq-"
      }
    },
    {
      "cell_type": "code",
      "source": [
        "var_string = 'Belajar python'\n",
        "\n",
        "# upper()\n",
        "print(var_string.upper())\n",
        "\n",
        "# count()\n",
        "print(var_string.count('a'))"
      ],
      "metadata": {
        "colab": {
          "base_uri": "https://localhost:8080/"
        },
        "id": "i_CRTCIu1n2z",
        "outputId": "2c241d08-f206-499a-e13b-fb8399a17f3a"
      },
      "execution_count": null,
      "outputs": [
        {
          "output_type": "stream",
          "name": "stdout",
          "text": [
            "BELAJAR PYTHON\n",
            "2\n"
          ]
        }
      ]
    },
    {
      "cell_type": "code",
      "source": [
        "var_list = ['merah', 'kuning', 'hijau', 'biru']\n",
        "\n",
        "# index()\n",
        "var_list.index('kuning')\n",
        "\n",
        "# count()\n",
        "var_list.count('merah')"
      ],
      "metadata": {
        "colab": {
          "base_uri": "https://localhost:8080/"
        },
        "id": "6jQ6NPKQ3YUV",
        "outputId": "d6d11cd5-0e96-4933-8cc2-a3744337daac"
      },
      "execution_count": null,
      "outputs": [
        {
          "output_type": "execute_result",
          "data": {
            "text/plain": [
              "1"
            ]
          },
          "metadata": {},
          "execution_count": 20
        }
      ]
    },
    {
      "cell_type": "markdown",
      "source": [
        "## MENGIMPOR MODUL\n",
        "\n",
        "**Modul** adalah file berisikan kumpulan definisi dan pernyataan python\n",
        "<br>\n",
        "1. Modul perlu diimpor untuk mengakses definisi yang terdapat didalamnya <br>\n",
        "2. Contoh modul **math** yg didalamnya terdapat definisi konstanta **pi**\n",
        "<br>\n",
        "3. Modul juga bisa diimpor secara selektif, dimana hanya definisi atau pernyataan tertentu yg diimpor"
      ],
      "metadata": {
        "id": "FqwPzMog4u7h"
      }
    },
    {
      "cell_type": "code",
      "source": [
        "import math\n",
        "math.pi"
      ],
      "metadata": {
        "colab": {
          "base_uri": "https://localhost:8080/"
        },
        "id": "kLPi1gaz5XCL",
        "outputId": "2f0c491a-cfc1-46f0-aa96-edbdc8ce971b"
      },
      "execution_count": null,
      "outputs": [
        {
          "output_type": "execute_result",
          "data": {
            "text/plain": [
              "3.141592653589793"
            ]
          },
          "metadata": {},
          "execution_count": 21
        }
      ]
    },
    {
      "cell_type": "code",
      "source": [
        "import math as mt\n",
        "mt.pi"
      ],
      "metadata": {
        "colab": {
          "base_uri": "https://localhost:8080/"
        },
        "id": "J9sDV4Zf6OBT",
        "outputId": "c6a033c6-b68f-455e-b66b-692ba37f05c3"
      },
      "execution_count": null,
      "outputs": [
        {
          "output_type": "execute_result",
          "data": {
            "text/plain": [
              "3.141592653589793"
            ]
          },
          "metadata": {},
          "execution_count": 22
        }
      ]
    },
    {
      "cell_type": "code",
      "source": [
        "from math import pi\n",
        "pi"
      ],
      "metadata": {
        "colab": {
          "base_uri": "https://localhost:8080/"
        },
        "id": "iAAKrSD06RyA",
        "outputId": "1fd3443d-66aa-46b8-ac77-9e27e38521dc"
      },
      "execution_count": null,
      "outputs": [
        {
          "output_type": "execute_result",
          "data": {
            "text/plain": [
              "3.141592653589793"
            ]
          },
          "metadata": {},
          "execution_count": 23
        }
      ]
    },
    {
      "cell_type": "code",
      "source": [
        "# Penggunaan pi utk menghitung volume lingkaran\n",
        "r = 12\n",
        "vol_bola = 4/3 * pi * r ** 3\n",
        "print('Volume bola adalah {} cm^3'.format(vol_bola))"
      ],
      "metadata": {
        "colab": {
          "base_uri": "https://localhost:8080/"
        },
        "id": "rPa4K8LG6UEK",
        "outputId": "9062d37d-6aed-45e3-f897-82d72bb960e5"
      },
      "execution_count": null,
      "outputs": [
        {
          "output_type": "stream",
          "name": "stdout",
          "text": [
            "Volume bola adalah 7238.229473870882 cm^3\n"
          ]
        }
      ]
    },
    {
      "cell_type": "code",
      "source": [
        "# Penggunaan sqrt utk menghitung sisi miring segitiga siku-siku\n",
        "from math import sqrt\n",
        "\n",
        "a = 3\n",
        "b = 4\n",
        "c = sqrt(a**2 + b**2)\n",
        "print('Sisi miring segitiga siku-siku adalah {} cm'.format(c))"
      ],
      "metadata": {
        "colab": {
          "base_uri": "https://localhost:8080/"
        },
        "id": "E-zYYrnf6_-A",
        "outputId": "22a90c97-55fa-4132-e2b5-940f8241bf5e"
      },
      "execution_count": null,
      "outputs": [
        {
          "output_type": "stream",
          "name": "stdout",
          "text": [
            "Sisi miring segitiga siku-siku adalah 5.0 cm\n"
          ]
        }
      ]
    },
    {
      "cell_type": "markdown",
      "source": [],
      "metadata": {
        "id": "SiF4tZ4o9JTY"
      }
    },
    {
      "cell_type": "markdown",
      "source": [
        "## NUMPY ARRAY\n",
        "\n",
        "**Numpy** adalah modul pada python yg dapat membuat dan mengolah struktur data array <br>\n",
        "1. Elemen array bersifat homogen (satu tipe) <br>\n",
        "2. Struktur data array optimal untuk analisis numerik <br>\n",
        "3. Data array dapat dibuat dari list <br>\n",
        "4. Operasi aritmatik dapat dilakukan pada data array <br>"
      ],
      "metadata": {
        "id": "EIAQNgTu9JrJ"
      }
    },
    {
      "cell_type": "code",
      "source": [
        "import numpy as np\n",
        "\n",
        "var_list1 = [1, 3, 5, 7]\n",
        "var_array = np.array(var_list1)\n",
        "var_array"
      ],
      "metadata": {
        "id": "Jl2cJ9mG9uDm",
        "colab": {
          "base_uri": "https://localhost:8080/"
        },
        "outputId": "53599f01-8a42-4650-b9eb-104dca957999"
      },
      "execution_count": null,
      "outputs": [
        {
          "output_type": "execute_result",
          "data": {
            "text/plain": [
              "array([1, 3, 5, 7])"
            ]
          },
          "metadata": {},
          "execution_count": 1
        }
      ]
    },
    {
      "cell_type": "code",
      "source": [
        "var_array + 7"
      ],
      "metadata": {
        "colab": {
          "base_uri": "https://localhost:8080/"
        },
        "id": "dQN7FUA2jdVO",
        "outputId": "fea6a377-30c8-433c-8b2f-12ae6e17c913"
      },
      "execution_count": null,
      "outputs": [
        {
          "output_type": "execute_result",
          "data": {
            "text/plain": [
              "array([ 8, 10, 12, 14])"
            ]
          },
          "metadata": {},
          "execution_count": 2
        }
      ]
    },
    {
      "cell_type": "code",
      "source": [
        "var_array / 6"
      ],
      "metadata": {
        "colab": {
          "base_uri": "https://localhost:8080/"
        },
        "id": "6-tRQt9djhaR",
        "outputId": "77e20bc8-f694-4510-95e7-4679a138ceef"
      },
      "execution_count": null,
      "outputs": [
        {
          "output_type": "execute_result",
          "data": {
            "text/plain": [
              "array([0.16666667, 0.5       , 0.83333333, 1.16666667])"
            ]
          },
          "metadata": {},
          "execution_count": 3
        }
      ]
    },
    {
      "cell_type": "code",
      "source": [
        "var_list_campur = [3, 'nama', True]\n",
        "var_arrray_campur = np.array(var_list_campur)\n",
        "var_arrray_campur #numpy array bersifat homogen, semua list dgn tipe data berbeda akan diubah menjadi string di array"
      ],
      "metadata": {
        "colab": {
          "base_uri": "https://localhost:8080/"
        },
        "id": "o2bD_n1xjn6y",
        "outputId": "6c13e4ae-2d73-45e3-fdbf-2df79b349d02"
      },
      "execution_count": null,
      "outputs": [
        {
          "output_type": "execute_result",
          "data": {
            "text/plain": [
              "array(['3', 'nama', 'True'], dtype='<U21')"
            ]
          },
          "metadata": {},
          "execution_count": 5
        }
      ]
    },
    {
      "cell_type": "markdown",
      "source": [
        "## 2D NUMPY ARRAY\n",
        "\n",
        "1. Array dapat berbentuk 2 dimensi\n",
        "2. Array 2D dibuat dengan mengkonversi list of list"
      ],
      "metadata": {
        "id": "TnsonYpel4wb"
      }
    },
    {
      "cell_type": "code",
      "source": [
        "var_list2 = [1, 2, 3, 4, 5, 6, 7, 8, 9, 10]\n",
        "var_array2 = np.array(var_list2)"
      ],
      "metadata": {
        "id": "8RZCEYZcl7hC"
      },
      "execution_count": null,
      "outputs": []
    },
    {
      "cell_type": "code",
      "source": [
        "var_array2.shape # array masih 1D"
      ],
      "metadata": {
        "colab": {
          "base_uri": "https://localhost:8080/"
        },
        "id": "VA58Br0-my3T",
        "outputId": "d09fbb56-8651-4468-8811-e2b6fe1311ff"
      },
      "execution_count": null,
      "outputs": [
        {
          "output_type": "execute_result",
          "data": {
            "text/plain": [
              "(10,)"
            ]
          },
          "metadata": {},
          "execution_count": 7
        }
      ]
    },
    {
      "cell_type": "code",
      "source": [
        "# subset array 1D\n",
        "var_array2[2:5]"
      ],
      "metadata": {
        "colab": {
          "base_uri": "https://localhost:8080/"
        },
        "id": "64JC59xUoVqS",
        "outputId": "148f4f25-4868-4e14-9b21-7ca3fad9a8e1"
      },
      "execution_count": null,
      "outputs": [
        {
          "output_type": "execute_result",
          "data": {
            "text/plain": [
              "array([3, 4, 5])"
            ]
          },
          "metadata": {},
          "execution_count": 15
        }
      ]
    },
    {
      "cell_type": "code",
      "source": [
        "# array 2D gunakan reshape\n",
        "var_array_reshape = var_array2.reshape(5, 2)\n",
        "var_array_reshape"
      ],
      "metadata": {
        "colab": {
          "base_uri": "https://localhost:8080/"
        },
        "id": "S3DUh4S4m258",
        "outputId": "b9543ab5-ff6d-4ae7-bf34-ffcaaf7dd236"
      },
      "execution_count": null,
      "outputs": [
        {
          "output_type": "execute_result",
          "data": {
            "text/plain": [
              "array([[ 1,  2],\n",
              "       [ 3,  4],\n",
              "       [ 5,  6],\n",
              "       [ 7,  8],\n",
              "       [ 9, 10]])"
            ]
          },
          "metadata": {},
          "execution_count": 16
        }
      ]
    },
    {
      "cell_type": "code",
      "source": [
        "# cek dimensi array\n",
        "var_array_reshape.shape"
      ],
      "metadata": {
        "colab": {
          "base_uri": "https://localhost:8080/"
        },
        "id": "KbX2NyB7nApw",
        "outputId": "7d542b68-8650-462a-ebb7-9bebbe31f135"
      },
      "execution_count": null,
      "outputs": [
        {
          "output_type": "execute_result",
          "data": {
            "text/plain": [
              "(5, 2)"
            ]
          },
          "metadata": {},
          "execution_count": 14
        }
      ]
    },
    {
      "cell_type": "code",
      "source": [
        "# subset array 2D\n",
        "var_array_reshape[1:3, :2]"
      ],
      "metadata": {
        "colab": {
          "base_uri": "https://localhost:8080/"
        },
        "id": "Y7ZMP78poglT",
        "outputId": "6b281b05-2cde-4d24-a7ea-8b414a1834fe"
      },
      "execution_count": null,
      "outputs": [
        {
          "output_type": "execute_result",
          "data": {
            "text/plain": [
              "array([[3, 4],\n",
              "       [5, 6]])"
            ]
          },
          "metadata": {},
          "execution_count": 29
        }
      ]
    },
    {
      "cell_type": "code",
      "source": [
        "# Perkalian array\n",
        "var_array3 = var_array_reshape.reshape(2, 5)\n",
        "var_array3"
      ],
      "metadata": {
        "colab": {
          "base_uri": "https://localhost:8080/"
        },
        "id": "qMSuLaz9nQPm",
        "outputId": "dbf52886-7463-48e5-a198-dc4d6e632737"
      },
      "execution_count": null,
      "outputs": [
        {
          "output_type": "execute_result",
          "data": {
            "text/plain": [
              "array([[ 1,  2,  3,  4,  5],\n",
              "       [ 6,  7,  8,  9, 10]])"
            ]
          },
          "metadata": {},
          "execution_count": 31
        }
      ]
    },
    {
      "cell_type": "code",
      "source": [
        "var_array_reshape"
      ],
      "metadata": {
        "colab": {
          "base_uri": "https://localhost:8080/"
        },
        "id": "OZHFWcu1thOW",
        "outputId": "ec36fdb7-e005-4152-a45d-7bda47d22929"
      },
      "execution_count": null,
      "outputs": [
        {
          "output_type": "execute_result",
          "data": {
            "text/plain": [
              "array([[ 1,  2],\n",
              "       [ 3,  4],\n",
              "       [ 5,  6],\n",
              "       [ 7,  8],\n",
              "       [ 9, 10]])"
            ]
          },
          "metadata": {},
          "execution_count": 32
        }
      ]
    },
    {
      "cell_type": "code",
      "source": [
        "var_array4 = np.matmul(var_array3, var_array_reshape)\n",
        "var_array4"
      ],
      "metadata": {
        "colab": {
          "base_uri": "https://localhost:8080/"
        },
        "id": "mTJ-AEpEtrIE",
        "outputId": "f816a3ee-4d77-4eeb-d591-afd1f04eda8f"
      },
      "execution_count": null,
      "outputs": [
        {
          "output_type": "execute_result",
          "data": {
            "text/plain": [
              "array([[ 95, 110],\n",
              "       [220, 260]])"
            ]
          },
          "metadata": {},
          "execution_count": 33
        }
      ]
    },
    {
      "cell_type": "code",
      "source": [
        "arr_1 = np.array([1, 2, 3, 4]).reshape(2, 2)\n",
        "arr_2 = np.array([5, 6, 7, 8]).reshape(2, 2)\n",
        "arr_3 = np.matmul(arr_1, arr_2)\n",
        "arr_3"
      ],
      "metadata": {
        "colab": {
          "base_uri": "https://localhost:8080/"
        },
        "id": "bXuFgZpOtz_A",
        "outputId": "274b1ecc-145d-48a6-e963-ce243211c251"
      },
      "execution_count": null,
      "outputs": [
        {
          "output_type": "execute_result",
          "data": {
            "text/plain": [
              "array([[19, 22],\n",
              "       [43, 50]])"
            ]
          },
          "metadata": {},
          "execution_count": 34
        }
      ]
    },
    {
      "cell_type": "code",
      "source": [
        "# perkalian array juga bisa menggunakan @\n",
        "arr_1 @ arr_2"
      ],
      "metadata": {
        "colab": {
          "base_uri": "https://localhost:8080/"
        },
        "id": "aZUjnbGDuJ97",
        "outputId": "9d4855e8-0314-4653-80af-6995223bb7ea"
      },
      "execution_count": null,
      "outputs": [
        {
          "output_type": "execute_result",
          "data": {
            "text/plain": [
              "array([[19, 22],\n",
              "       [43, 50]])"
            ]
          },
          "metadata": {},
          "execution_count": 35
        }
      ]
    },
    {
      "cell_type": "markdown",
      "source": [
        "## SUBSETTING 2D ARRAY\n",
        "\n",
        "1. Subset pada array 2D dilakukan dengan menuliskan row dan column (dihitung dari 0, 1, 2, dst) dengan format nama_array[nomor_row,nomor_column]\n",
        "2. Subset juga bisa dilakukan dgn menggunakan range row atau column (slicing)"
      ],
      "metadata": {
        "id": "S6KbaVQhv9sq"
      }
    },
    {
      "cell_type": "markdown",
      "source": [],
      "metadata": {
        "id": "vu2Oc63MwwC9"
      }
    },
    {
      "cell_type": "markdown",
      "source": [
        "## ANALISIS STATISTIKA DASAR PADA ARRAY\n",
        "\n",
        "Modul **numpy** memiliki fungsi utk menjalankan analisis statistic dasar seperti **min(), max(), sum(), mean(), media()**"
      ],
      "metadata": {
        "id": "pf0m3geOwwau"
      }
    },
    {
      "cell_type": "code",
      "source": [
        "var_array2"
      ],
      "metadata": {
        "colab": {
          "base_uri": "https://localhost:8080/"
        },
        "id": "Ai4LBRWjxUQp",
        "outputId": "b9f86253-34f2-4c28-f1e5-be168eba2738"
      },
      "execution_count": null,
      "outputs": [
        {
          "output_type": "execute_result",
          "data": {
            "text/plain": [
              "array([ 1,  2,  3,  4,  5,  6,  7,  8,  9, 10])"
            ]
          },
          "metadata": {},
          "execution_count": 36
        }
      ]
    },
    {
      "cell_type": "code",
      "source": [
        "np.mean(var_array2)"
      ],
      "metadata": {
        "colab": {
          "base_uri": "https://localhost:8080/"
        },
        "id": "zHzpLkeVxyUP",
        "outputId": "7221a40c-c509-47ae-e739-86174ccc1235"
      },
      "execution_count": null,
      "outputs": [
        {
          "output_type": "execute_result",
          "data": {
            "text/plain": [
              "np.float64(5.5)"
            ]
          },
          "metadata": {},
          "execution_count": 37
        }
      ]
    },
    {
      "cell_type": "code",
      "source": [
        "var_array2.mean()"
      ],
      "metadata": {
        "colab": {
          "base_uri": "https://localhost:8080/"
        },
        "id": "Uf7022PAx2zb",
        "outputId": "36ac5c9a-ed26-4084-dba4-7d7cc3e30bfb"
      },
      "execution_count": null,
      "outputs": [
        {
          "output_type": "execute_result",
          "data": {
            "text/plain": [
              "np.float64(5.5)"
            ]
          },
          "metadata": {},
          "execution_count": 38
        }
      ]
    },
    {
      "cell_type": "code",
      "source": [
        "np.median(var_array2)"
      ],
      "metadata": {
        "colab": {
          "base_uri": "https://localhost:8080/"
        },
        "id": "gG1LoRl4x8wM",
        "outputId": "0852520f-d893-4d5f-dd71-687f5da13638"
      },
      "execution_count": null,
      "outputs": [
        {
          "output_type": "execute_result",
          "data": {
            "text/plain": [
              "np.float64(5.5)"
            ]
          },
          "metadata": {},
          "execution_count": 39
        }
      ]
    },
    {
      "cell_type": "code",
      "source": [
        "np.min(var_array2)"
      ],
      "metadata": {
        "colab": {
          "base_uri": "https://localhost:8080/"
        },
        "id": "0m_7E_UvyF7w",
        "outputId": "65ec44ad-d412-41bd-d3e1-316d37df006e"
      },
      "execution_count": null,
      "outputs": [
        {
          "output_type": "execute_result",
          "data": {
            "text/plain": [
              "np.int64(1)"
            ]
          },
          "metadata": {},
          "execution_count": 40
        }
      ]
    },
    {
      "cell_type": "code",
      "source": [
        "np.max(var_array2)"
      ],
      "metadata": {
        "colab": {
          "base_uri": "https://localhost:8080/"
        },
        "id": "rciNJk8xyO6-",
        "outputId": "4c41c6e6-f4d4-41fd-bfc4-ea1de6be8e38"
      },
      "execution_count": null,
      "outputs": [
        {
          "output_type": "execute_result",
          "data": {
            "text/plain": [
              "np.int64(10)"
            ]
          },
          "metadata": {},
          "execution_count": 41
        }
      ]
    },
    {
      "cell_type": "code",
      "source": [
        "np.std(var_array2)"
      ],
      "metadata": {
        "colab": {
          "base_uri": "https://localhost:8080/"
        },
        "id": "asn7v-3JycE8",
        "outputId": "52915247-2cb8-4a72-9092-65a3b207ffd9"
      },
      "execution_count": null,
      "outputs": [
        {
          "output_type": "execute_result",
          "data": {
            "text/plain": [
              "np.float64(2.8722813232690143)"
            ]
          },
          "metadata": {},
          "execution_count": 42
        }
      ]
    },
    {
      "cell_type": "code",
      "source": [
        "np.var(var_array2)"
      ],
      "metadata": {
        "colab": {
          "base_uri": "https://localhost:8080/"
        },
        "id": "25JOXMAVyfKb",
        "outputId": "606c8e62-905d-45dc-bb9a-817aa4d085c2"
      },
      "execution_count": null,
      "outputs": [
        {
          "output_type": "execute_result",
          "data": {
            "text/plain": [
              "np.float64(8.25)"
            ]
          },
          "metadata": {},
          "execution_count": 43
        }
      ]
    },
    {
      "cell_type": "code",
      "source": [
        "np.sum(var_array2)"
      ],
      "metadata": {
        "colab": {
          "base_uri": "https://localhost:8080/"
        },
        "id": "YNFwe_Xlygun",
        "outputId": "79c65829-d53f-4fe4-8cda-dc0bb75ce1e4"
      },
      "execution_count": null,
      "outputs": [
        {
          "output_type": "execute_result",
          "data": {
            "text/plain": [
              "np.int64(55)"
            ]
          },
          "metadata": {},
          "execution_count": 44
        }
      ]
    }
  ]
}