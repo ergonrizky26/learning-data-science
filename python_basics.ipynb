{
  "nbformat": 4,
  "nbformat_minor": 0,
  "metadata": {
    "colab": {
      "provenance": [],
      "authorship_tag": "ABX9TyN1JUxlEZ0ckVIj0KETVaYf",
      "include_colab_link": true
    },
    "kernelspec": {
      "name": "python3",
      "display_name": "Python 3"
    },
    "language_info": {
      "name": "python"
    }
  },
  "cells": [
    {
      "cell_type": "markdown",
      "metadata": {
        "id": "view-in-github",
        "colab_type": "text"
      },
      "source": [
        "<a href=\"https://colab.research.google.com/github/ergonrizky26/learning-data-science/blob/main/python_basics.ipynb\" target=\"_parent\"><img src=\"https://colab.research.google.com/assets/colab-badge.svg\" alt=\"Open In Colab\"/></a>"
      ]
    },
    {
      "cell_type": "markdown",
      "source": [
        "## FUNGSI\n",
        "\n",
        "**Fungsi** adalah kode yang digunakan untuk menjalankan suatu aksi\n",
        "Contoh fungsi adalah **print()** yang digunakan untuk menampilkan argumen pada output"
      ],
      "metadata": {
        "id": "ddLUbu3n7a_u"
      }
    },
    {
      "cell_type": "code",
      "source": [
        "print('Ergon Rizky')"
      ],
      "metadata": {
        "colab": {
          "base_uri": "https://localhost:8080/"
        },
        "id": "9hcUjKaX8Cs6",
        "outputId": "bda00222-561f-4b16-f376-10957f019b4e"
      },
      "execution_count": 1,
      "outputs": [
        {
          "output_type": "stream",
          "name": "stdout",
          "text": [
            "Ergon Rizky\n"
          ]
        }
      ]
    },
    {
      "cell_type": "code",
      "source": [
        "print('17 Maret 2025')"
      ],
      "metadata": {
        "colab": {
          "base_uri": "https://localhost:8080/"
        },
        "id": "DAW42mVN8QKC",
        "outputId": "ab1cb543-272b-4249-95a0-5ca640943a30"
      },
      "execution_count": 2,
      "outputs": [
        {
          "output_type": "stream",
          "name": "stdout",
          "text": [
            "17 Maret 2025\n"
          ]
        }
      ]
    },
    {
      "cell_type": "code",
      "source": [
        "print(100/10)"
      ],
      "metadata": {
        "colab": {
          "base_uri": "https://localhost:8080/"
        },
        "id": "s_MJ4VMC8TZS",
        "outputId": "1f44c746-993f-41ed-e019-ab9ea4e1bb90"
      },
      "execution_count": 3,
      "outputs": [
        {
          "output_type": "stream",
          "name": "stdout",
          "text": [
            "10.0\n"
          ]
        }
      ]
    },
    {
      "cell_type": "code",
      "source": [
        "print(2*5)"
      ],
      "metadata": {
        "colab": {
          "base_uri": "https://localhost:8080/"
        },
        "id": "ns8m_t9R8U1h",
        "outputId": "ebfe19fb-eb08-4eb7-b305-5bd990d62185"
      },
      "execution_count": 4,
      "outputs": [
        {
          "output_type": "stream",
          "name": "stdout",
          "text": [
            "10\n"
          ]
        }
      ]
    },
    {
      "cell_type": "code",
      "source": [
        "print(type(100/10))"
      ],
      "metadata": {
        "colab": {
          "base_uri": "https://localhost:8080/"
        },
        "id": "xK44V8zA8Wa9",
        "outputId": "a219e75d-3047-46e8-a378-32969d663b8d"
      },
      "execution_count": 5,
      "outputs": [
        {
          "output_type": "stream",
          "name": "stdout",
          "text": [
            "<class 'float'>\n"
          ]
        }
      ]
    },
    {
      "cell_type": "code",
      "source": [
        "print(len('Ergon Rizky'))"
      ],
      "metadata": {
        "colab": {
          "base_uri": "https://localhost:8080/"
        },
        "id": "Vd45E2ZD8YfY",
        "outputId": "58a3b075-4ba5-4532-a40c-3f89f91af82a"
      },
      "execution_count": 6,
      "outputs": [
        {
          "output_type": "stream",
          "name": "stdout",
          "text": [
            "11\n"
          ]
        }
      ]
    },
    {
      "cell_type": "markdown",
      "source": [],
      "metadata": {
        "id": "1gsE68G_84Cn"
      }
    },
    {
      "cell_type": "markdown",
      "source": [
        "## VARIABEL\n",
        "\n",
        "**Variabel** adalah container yang dipakai untuk menyimpan data. Variabel dipakai agar tidak perlu mengulang menuliskan data setiap akan menjalankan suatu fungsi terhadap data tersebut. Dibuat dengan menuliskan nama variabel diikutin dengan **'='**"
      ],
      "metadata": {
        "id": "vnnREewK84fm"
      }
    },
    {
      "cell_type": "code",
      "source": [
        "# Contoh variabel\n",
        "int_a = 10;\n",
        "float_a = 10.5;\n",
        "string_a = 'contoh string';\n",
        "boolean_a = True;"
      ],
      "metadata": {
        "id": "E3oOAfdUAVru"
      },
      "execution_count": 7,
      "outputs": []
    },
    {
      "cell_type": "markdown",
      "source": [
        "## TIPE DATA\n",
        "\n",
        "Beberapa tipe data yang dikenal oleh **Python**:\n",
        "1. Integer -> Bilangan bulat\n",
        "2. Float -> Bilangan pecahan\n",
        "3. String -> Teks\n",
        "4. Boolean -> True/*False*"
      ],
      "metadata": {
        "id": "cWqvKYQR_eN-"
      }
    },
    {
      "cell_type": "code",
      "source": [
        "# Identifikasi tipe data\n",
        "print(type(int_a))\n",
        "print(type(float_a))\n",
        "print(type(string_a))\n",
        "print(type(boolean_a))"
      ],
      "metadata": {
        "colab": {
          "base_uri": "https://localhost:8080/"
        },
        "id": "93uPngGq_mG_",
        "outputId": "584e6be5-fbac-4c56-818a-b64384e5de2b"
      },
      "execution_count": 8,
      "outputs": [
        {
          "output_type": "stream",
          "name": "stdout",
          "text": [
            "<class 'int'>\n",
            "<class 'float'>\n",
            "<class 'str'>\n",
            "<class 'bool'>\n"
          ]
        }
      ]
    },
    {
      "cell_type": "markdown",
      "source": [
        "## LIST\n",
        "\n",
        "**List** adalah kumpulan data yang terstruktur dengan urutan tertentu. Dibuat dengan menuliskan **'['** dan **']'** dan dipisahkan dengan **','**. Dalam list, tiap data memiliki index dengan urutan dari 0, 1, 2, dst"
      ],
      "metadata": {
        "id": "2rPAwmYlBaQO"
      }
    },
    {
      "cell_type": "markdown",
      "source": [
        "**Index** diperlukan untuk **subsetting** : mendidentifikasi/memanggil data dengan urutan tertentu dari list"
      ],
      "metadata": {
        "id": "cq6H_XufCKX0"
      }
    },
    {
      "cell_type": "code",
      "source": [
        "warna = ['merah', 'kuning', 'biru']\n",
        "warna[1]"
      ],
      "metadata": {
        "colab": {
          "base_uri": "https://localhost:8080/",
          "height": 35
        },
        "id": "6rFnbyx6CUhB",
        "outputId": "c8db29ee-0f03-409b-9493-81635a94299a"
      },
      "execution_count": 9,
      "outputs": [
        {
          "output_type": "execute_result",
          "data": {
            "text/plain": [
              "'kuning'"
            ],
            "application/vnd.google.colaboratory.intrinsic+json": {
              "type": "string"
            }
          },
          "metadata": {},
          "execution_count": 9
        }
      ]
    },
    {
      "cell_type": "code",
      "source": [
        "warna[-1] # Indeks -1 menunjukkan data dengan urutan terakhir"
      ],
      "metadata": {
        "colab": {
          "base_uri": "https://localhost:8080/",
          "height": 35
        },
        "id": "255rdHTVC1pn",
        "outputId": "1613de2b-3637-4bc7-a466-b8c9ea3d178c"
      },
      "execution_count": 10,
      "outputs": [
        {
          "output_type": "execute_result",
          "data": {
            "text/plain": [
              "'biru'"
            ],
            "application/vnd.google.colaboratory.intrinsic+json": {
              "type": "string"
            }
          },
          "metadata": {},
          "execution_count": 10
        }
      ]
    },
    {
      "cell_type": "markdown",
      "source": [],
      "metadata": {
        "id": "2CgH71GbDH3Y"
      }
    },
    {
      "cell_type": "markdown",
      "source": [
        "## SLICING PADA LIST\n",
        "\n",
        "**Slicing** adalah proses memotong list dengan range indeks tertentu. Range indeks ditulis dengan **['indeks awal : 'indeks akhir']**. </br>\n",
        "Indeks awal akan diikutsertakan pada output, sedangkan Indeks akhir tidak diikutsertakan pada output."
      ],
      "metadata": {
        "id": "dRCHXF0NDIHW"
      }
    },
    {
      "cell_type": "markdown",
      "source": [
        "### Latihan List dan Slicing"
      ],
      "metadata": {
        "id": "4jG6wE6jEkg1"
      }
    },
    {
      "cell_type": "code",
      "source": [
        "nama = 'ergon rizky'\n",
        "jarak_km = 5\n",
        "jarak_mil = 5 * 0.62\n",
        "jarak_beda = jarak_km == jarak_mil\n",
        "\n",
        "print(type(nama))\n",
        "print(type(jarak_km))\n",
        "print(type(jarak_mil))\n",
        "print(type(jarak_beda))"
      ],
      "metadata": {
        "colab": {
          "base_uri": "https://localhost:8080/"
        },
        "id": "3bGfMSPGEmJF",
        "outputId": "6f8d1a5a-4da4-4a23-a4c2-f4d3aad92d4c"
      },
      "execution_count": 11,
      "outputs": [
        {
          "output_type": "stream",
          "name": "stdout",
          "text": [
            "<class 'str'>\n",
            "<class 'int'>\n",
            "<class 'float'>\n",
            "<class 'bool'>\n"
          ]
        }
      ]
    },
    {
      "cell_type": "code",
      "source": [
        "list_a = [nama, jarak_km, jarak_mil, jarak_beda]\n",
        "list_a"
      ],
      "metadata": {
        "colab": {
          "base_uri": "https://localhost:8080/"
        },
        "id": "9XxvX6YhE55A",
        "outputId": "810ddce9-4b98-4345-95cb-590c6b1f6ad6"
      },
      "execution_count": 12,
      "outputs": [
        {
          "output_type": "execute_result",
          "data": {
            "text/plain": [
              "['ergon rizky', 5, 3.1, False]"
            ]
          },
          "metadata": {},
          "execution_count": 12
        }
      ]
    },
    {
      "cell_type": "code",
      "source": [
        "# Slice 2 data terakhir\n",
        "list_a[2:]"
      ],
      "metadata": {
        "colab": {
          "base_uri": "https://localhost:8080/"
        },
        "id": "npUjK5aTFFEl",
        "outputId": "95a4077c-0fc2-42e6-d796-ac9e509c13cd"
      },
      "execution_count": 13,
      "outputs": [
        {
          "output_type": "execute_result",
          "data": {
            "text/plain": [
              "[3.1, False]"
            ]
          },
          "metadata": {},
          "execution_count": 13
        }
      ]
    },
    {
      "cell_type": "code",
      "source": [
        "# Slice 2 data pertama\n",
        "list_a[:2]"
      ],
      "metadata": {
        "colab": {
          "base_uri": "https://localhost:8080/"
        },
        "id": "fJMwA3KhFZER",
        "outputId": "8dfa827a-74d1-494f-f909-f4706c10213d"
      },
      "execution_count": 14,
      "outputs": [
        {
          "output_type": "execute_result",
          "data": {
            "text/plain": [
              "['ergon rizky', 5]"
            ]
          },
          "metadata": {},
          "execution_count": 14
        }
      ]
    },
    {
      "cell_type": "markdown",
      "source": [],
      "metadata": {
        "id": "WapgxUUL1bW2"
      }
    },
    {
      "cell_type": "markdown",
      "source": [
        "## METODE\n",
        "\n",
        "**Metode** adalah fungsi yang dimiliki oleh objek <br>\n",
        "1. Contoh metode yg dimiliki oleh objek string :\n",
        "-> **upper()** <br>\n",
        "-> **count()** <br>\n",
        "2. Contoh metode yg dimiliki oleh objek list :    \n",
        "-> **index()** <br>\n",
        "-> **count()**\n"
      ],
      "metadata": {
        "id": "TEmbu1rZ1bq-"
      }
    },
    {
      "cell_type": "code",
      "source": [
        "var_string = 'Belajar python'\n",
        "\n",
        "# upper()\n",
        "print(var_string.upper())\n",
        "\n",
        "# count()\n",
        "print(var_string.count('a'))"
      ],
      "metadata": {
        "colab": {
          "base_uri": "https://localhost:8080/"
        },
        "id": "i_CRTCIu1n2z",
        "outputId": "fbb9ebbc-aa86-4b1e-f91e-66cbdd51854d"
      },
      "execution_count": 15,
      "outputs": [
        {
          "output_type": "stream",
          "name": "stdout",
          "text": [
            "BELAJAR PYTHON\n",
            "2\n"
          ]
        }
      ]
    },
    {
      "cell_type": "code",
      "source": [
        "var_list = ['merah', 'kuning', 'hijau', 'biru']\n",
        "\n",
        "# index()\n",
        "var_list.index('kuning')\n",
        "\n",
        "# count()\n",
        "var_list.count('merah')"
      ],
      "metadata": {
        "colab": {
          "base_uri": "https://localhost:8080/"
        },
        "id": "6jQ6NPKQ3YUV",
        "outputId": "c451df11-e201-4ffb-c860-9fa162b28d20"
      },
      "execution_count": 16,
      "outputs": [
        {
          "output_type": "execute_result",
          "data": {
            "text/plain": [
              "1"
            ]
          },
          "metadata": {},
          "execution_count": 16
        }
      ]
    },
    {
      "cell_type": "markdown",
      "source": [
        "## MENGIMPOR MODUL\n",
        "\n",
        "**Modul** adalah file berisikan kumpulan definisi dan pernyataan python\n",
        "<br>\n",
        "1. Modul perlu diimpor untuk mengakses definisi yang terdapat didalamnya <br>\n",
        "2. Contoh modul **math** yg didalamnya terdapat definisi konstanta **pi**\n",
        "<br>\n",
        "3. Modul juga bisa diimpor secara selektif, dimana hanya definisi atau pernyataan tertentu yg diimpor"
      ],
      "metadata": {
        "id": "FqwPzMog4u7h"
      }
    },
    {
      "cell_type": "code",
      "source": [
        "import math\n",
        "math.pi"
      ],
      "metadata": {
        "colab": {
          "base_uri": "https://localhost:8080/"
        },
        "id": "kLPi1gaz5XCL",
        "outputId": "f67e5347-598c-4c8f-aa7c-ab66f0a5886e"
      },
      "execution_count": 17,
      "outputs": [
        {
          "output_type": "execute_result",
          "data": {
            "text/plain": [
              "3.141592653589793"
            ]
          },
          "metadata": {},
          "execution_count": 17
        }
      ]
    },
    {
      "cell_type": "code",
      "source": [
        "import math as mt\n",
        "mt.pi"
      ],
      "metadata": {
        "colab": {
          "base_uri": "https://localhost:8080/"
        },
        "id": "J9sDV4Zf6OBT",
        "outputId": "b8691b56-82bd-4130-f529-0ad9d5eea920"
      },
      "execution_count": 18,
      "outputs": [
        {
          "output_type": "execute_result",
          "data": {
            "text/plain": [
              "3.141592653589793"
            ]
          },
          "metadata": {},
          "execution_count": 18
        }
      ]
    },
    {
      "cell_type": "code",
      "source": [
        "from math import pi\n",
        "pi"
      ],
      "metadata": {
        "colab": {
          "base_uri": "https://localhost:8080/"
        },
        "id": "iAAKrSD06RyA",
        "outputId": "f6b2e2ee-03e2-48e6-a71e-486376ccf57f"
      },
      "execution_count": 19,
      "outputs": [
        {
          "output_type": "execute_result",
          "data": {
            "text/plain": [
              "3.141592653589793"
            ]
          },
          "metadata": {},
          "execution_count": 19
        }
      ]
    },
    {
      "cell_type": "code",
      "source": [
        "# Penggunaan pi utk menghitung volume lingkaran\n",
        "r = 12\n",
        "vol_bola = 4/3 * pi * r ** 3\n",
        "print('Volume bola adalah {} cm^3'.format(vol_bola))"
      ],
      "metadata": {
        "colab": {
          "base_uri": "https://localhost:8080/"
        },
        "id": "rPa4K8LG6UEK",
        "outputId": "e8a3ad47-7382-45a9-91e4-ec3540fdc968"
      },
      "execution_count": 20,
      "outputs": [
        {
          "output_type": "stream",
          "name": "stdout",
          "text": [
            "Volume bola adalah 7238.229473870882 cm^3\n"
          ]
        }
      ]
    },
    {
      "cell_type": "code",
      "source": [
        "# Penggunaan sqrt utk menghitung sisi miring segitiga siku-siku\n",
        "from math import sqrt\n",
        "\n",
        "a = 3\n",
        "b = 4\n",
        "c = sqrt(a**2 + b**2)\n",
        "print('Sisi miring segitiga siku-siku adalah {} cm'.format(c))"
      ],
      "metadata": {
        "colab": {
          "base_uri": "https://localhost:8080/"
        },
        "id": "E-zYYrnf6_-A",
        "outputId": "1b908554-8368-40f3-8aed-9d9053303121"
      },
      "execution_count": 21,
      "outputs": [
        {
          "output_type": "stream",
          "name": "stdout",
          "text": [
            "Sisi miring segitiga siku-siku adalah 5.0 cm\n"
          ]
        }
      ]
    },
    {
      "cell_type": "markdown",
      "source": [],
      "metadata": {
        "id": "SiF4tZ4o9JTY"
      }
    },
    {
      "cell_type": "markdown",
      "source": [
        "## NUMPY ARRAY\n",
        "\n",
        "**Numpy** adalah modul pada python yg dapat membuat dan mengolah struktur data array <br>\n",
        "1. Elemen array bersifat homogen (satu tipe) <br>\n",
        "2. Struktur data array optimal untuk analisis numerik <br>\n",
        "3. Data array dapat dibuat dari list <br>\n",
        "4. Operasi aritmatik dapat dilakukan pada data array <br>"
      ],
      "metadata": {
        "id": "EIAQNgTu9JrJ"
      }
    },
    {
      "cell_type": "code",
      "source": [
        "import numpy as np\n",
        "\n",
        "var_list1 = [1, 3, 5, 7]\n",
        "var_array = np.array(var_list1)\n",
        "var_array"
      ],
      "metadata": {
        "id": "Jl2cJ9mG9uDm",
        "colab": {
          "base_uri": "https://localhost:8080/"
        },
        "outputId": "461fadd1-ba91-4dd7-aefc-4aeaf552fb88"
      },
      "execution_count": 22,
      "outputs": [
        {
          "output_type": "execute_result",
          "data": {
            "text/plain": [
              "array([1, 3, 5, 7])"
            ]
          },
          "metadata": {},
          "execution_count": 22
        }
      ]
    },
    {
      "cell_type": "code",
      "source": [
        "var_array + 7"
      ],
      "metadata": {
        "colab": {
          "base_uri": "https://localhost:8080/"
        },
        "id": "dQN7FUA2jdVO",
        "outputId": "05116ae3-e3e5-4a8c-89fe-4592a32204c4"
      },
      "execution_count": 23,
      "outputs": [
        {
          "output_type": "execute_result",
          "data": {
            "text/plain": [
              "array([ 8, 10, 12, 14])"
            ]
          },
          "metadata": {},
          "execution_count": 23
        }
      ]
    },
    {
      "cell_type": "code",
      "source": [
        "var_array / 6"
      ],
      "metadata": {
        "colab": {
          "base_uri": "https://localhost:8080/"
        },
        "id": "6-tRQt9djhaR",
        "outputId": "48dc527d-c462-4aa4-87a3-fc8c4047893d"
      },
      "execution_count": 24,
      "outputs": [
        {
          "output_type": "execute_result",
          "data": {
            "text/plain": [
              "array([0.16666667, 0.5       , 0.83333333, 1.16666667])"
            ]
          },
          "metadata": {},
          "execution_count": 24
        }
      ]
    },
    {
      "cell_type": "code",
      "source": [
        "var_list_campur = [3, 'nama', True]\n",
        "var_arrray_campur = np.array(var_list_campur)\n",
        "var_arrray_campur #numpy array bersifat homogen, semua list dgn tipe data berbeda akan diubah menjadi string di array"
      ],
      "metadata": {
        "colab": {
          "base_uri": "https://localhost:8080/"
        },
        "id": "o2bD_n1xjn6y",
        "outputId": "21de5d9a-1a49-404c-a0f7-fa30ab200bad"
      },
      "execution_count": 25,
      "outputs": [
        {
          "output_type": "execute_result",
          "data": {
            "text/plain": [
              "array(['3', 'nama', 'True'], dtype='<U21')"
            ]
          },
          "metadata": {},
          "execution_count": 25
        }
      ]
    },
    {
      "cell_type": "markdown",
      "source": [
        "## 2D NUMPY ARRAY\n",
        "\n",
        "1. Array dapat berbentuk 2 dimensi\n",
        "2. Array 2D dibuat dengan mengkonversi list of list"
      ],
      "metadata": {
        "id": "TnsonYpel4wb"
      }
    },
    {
      "cell_type": "code",
      "source": [
        "var_list2 = [1, 2, 3, 4, 5, 6, 7, 8, 9, 10]\n",
        "var_array2 = np.array(var_list2)"
      ],
      "metadata": {
        "id": "8RZCEYZcl7hC"
      },
      "execution_count": 26,
      "outputs": []
    },
    {
      "cell_type": "code",
      "source": [
        "var_array2.shape # array masih 1D"
      ],
      "metadata": {
        "colab": {
          "base_uri": "https://localhost:8080/"
        },
        "id": "VA58Br0-my3T",
        "outputId": "871cb16c-21c7-4d05-f63d-84ff12486f98"
      },
      "execution_count": 27,
      "outputs": [
        {
          "output_type": "execute_result",
          "data": {
            "text/plain": [
              "(10,)"
            ]
          },
          "metadata": {},
          "execution_count": 27
        }
      ]
    },
    {
      "cell_type": "code",
      "source": [
        "# subset array 1D\n",
        "var_array2[2:5]"
      ],
      "metadata": {
        "colab": {
          "base_uri": "https://localhost:8080/"
        },
        "id": "64JC59xUoVqS",
        "outputId": "08f719e7-bdbf-4d68-ef72-7f687d9fd7e9"
      },
      "execution_count": 28,
      "outputs": [
        {
          "output_type": "execute_result",
          "data": {
            "text/plain": [
              "array([3, 4, 5])"
            ]
          },
          "metadata": {},
          "execution_count": 28
        }
      ]
    },
    {
      "cell_type": "code",
      "source": [
        "# array 2D gunakan reshape\n",
        "var_array_reshape = var_array2.reshape(5, 2)\n",
        "var_array_reshape"
      ],
      "metadata": {
        "colab": {
          "base_uri": "https://localhost:8080/"
        },
        "id": "S3DUh4S4m258",
        "outputId": "73e43372-5b40-4562-c374-95824c8c5361"
      },
      "execution_count": 29,
      "outputs": [
        {
          "output_type": "execute_result",
          "data": {
            "text/plain": [
              "array([[ 1,  2],\n",
              "       [ 3,  4],\n",
              "       [ 5,  6],\n",
              "       [ 7,  8],\n",
              "       [ 9, 10]])"
            ]
          },
          "metadata": {},
          "execution_count": 29
        }
      ]
    },
    {
      "cell_type": "code",
      "source": [
        "# cek dimensi array\n",
        "var_array_reshape.shape"
      ],
      "metadata": {
        "colab": {
          "base_uri": "https://localhost:8080/"
        },
        "id": "KbX2NyB7nApw",
        "outputId": "80b494af-5063-4178-e8ea-fe9c3aab8200"
      },
      "execution_count": 30,
      "outputs": [
        {
          "output_type": "execute_result",
          "data": {
            "text/plain": [
              "(5, 2)"
            ]
          },
          "metadata": {},
          "execution_count": 30
        }
      ]
    },
    {
      "cell_type": "code",
      "source": [
        "# subset array 2D\n",
        "var_array_reshape[1:3, :2]"
      ],
      "metadata": {
        "colab": {
          "base_uri": "https://localhost:8080/"
        },
        "id": "Y7ZMP78poglT",
        "outputId": "3732acac-763a-4539-e9b4-4ca9ffb8d1c4"
      },
      "execution_count": 31,
      "outputs": [
        {
          "output_type": "execute_result",
          "data": {
            "text/plain": [
              "array([[3, 4],\n",
              "       [5, 6]])"
            ]
          },
          "metadata": {},
          "execution_count": 31
        }
      ]
    },
    {
      "cell_type": "code",
      "source": [
        "# Perkalian array\n",
        "var_array3 = var_array_reshape.reshape(2, 5)\n",
        "var_array3"
      ],
      "metadata": {
        "colab": {
          "base_uri": "https://localhost:8080/"
        },
        "id": "qMSuLaz9nQPm",
        "outputId": "50513b67-61db-4a51-f25a-1a4427d67331"
      },
      "execution_count": 32,
      "outputs": [
        {
          "output_type": "execute_result",
          "data": {
            "text/plain": [
              "array([[ 1,  2,  3,  4,  5],\n",
              "       [ 6,  7,  8,  9, 10]])"
            ]
          },
          "metadata": {},
          "execution_count": 32
        }
      ]
    },
    {
      "cell_type": "code",
      "source": [
        "var_array_reshape"
      ],
      "metadata": {
        "colab": {
          "base_uri": "https://localhost:8080/"
        },
        "id": "OZHFWcu1thOW",
        "outputId": "11194865-1f01-41dc-d268-09444e4c5c6b"
      },
      "execution_count": 33,
      "outputs": [
        {
          "output_type": "execute_result",
          "data": {
            "text/plain": [
              "array([[ 1,  2],\n",
              "       [ 3,  4],\n",
              "       [ 5,  6],\n",
              "       [ 7,  8],\n",
              "       [ 9, 10]])"
            ]
          },
          "metadata": {},
          "execution_count": 33
        }
      ]
    },
    {
      "cell_type": "code",
      "source": [
        "var_array4 = np.matmul(var_array3, var_array_reshape)\n",
        "var_array4"
      ],
      "metadata": {
        "colab": {
          "base_uri": "https://localhost:8080/"
        },
        "id": "mTJ-AEpEtrIE",
        "outputId": "01296c71-6ad7-4bbd-8680-4bb5dadb5d87"
      },
      "execution_count": 34,
      "outputs": [
        {
          "output_type": "execute_result",
          "data": {
            "text/plain": [
              "array([[ 95, 110],\n",
              "       [220, 260]])"
            ]
          },
          "metadata": {},
          "execution_count": 34
        }
      ]
    },
    {
      "cell_type": "code",
      "source": [
        "arr_1 = np.array([1, 2, 3, 4]).reshape(2, 2)\n",
        "arr_2 = np.array([5, 6, 7, 8]).reshape(2, 2)\n",
        "arr_3 = np.matmul(arr_1, arr_2)\n",
        "arr_3"
      ],
      "metadata": {
        "colab": {
          "base_uri": "https://localhost:8080/"
        },
        "id": "bXuFgZpOtz_A",
        "outputId": "2d9d5bf5-6639-4706-d5ef-1c849557f22c"
      },
      "execution_count": 35,
      "outputs": [
        {
          "output_type": "execute_result",
          "data": {
            "text/plain": [
              "array([[19, 22],\n",
              "       [43, 50]])"
            ]
          },
          "metadata": {},
          "execution_count": 35
        }
      ]
    },
    {
      "cell_type": "code",
      "source": [
        "# perkalian array juga bisa menggunakan @\n",
        "arr_1 @ arr_2"
      ],
      "metadata": {
        "colab": {
          "base_uri": "https://localhost:8080/"
        },
        "id": "aZUjnbGDuJ97",
        "outputId": "17060222-9754-48e6-8150-a180fde0179a"
      },
      "execution_count": 36,
      "outputs": [
        {
          "output_type": "execute_result",
          "data": {
            "text/plain": [
              "array([[19, 22],\n",
              "       [43, 50]])"
            ]
          },
          "metadata": {},
          "execution_count": 36
        }
      ]
    },
    {
      "cell_type": "markdown",
      "source": [
        "## SUBSETTING 2D ARRAY\n",
        "\n",
        "1. Subset pada array 2D dilakukan dengan menuliskan row dan column (dihitung dari 0, 1, 2, dst) dengan format nama_array[nomor_row,nomor_column]\n",
        "2. Subset juga bisa dilakukan dgn menggunakan range row atau column (slicing)"
      ],
      "metadata": {
        "id": "S6KbaVQhv9sq"
      }
    },
    {
      "cell_type": "markdown",
      "source": [
        "## ANALISIS STATISTIKA DASAR PADA ARRAY\n",
        "\n",
        "Modul **numpy** memiliki fungsi utk menjalankan analisis statistic dasar seperti **min(), max(), sum(), mean(), media()**"
      ],
      "metadata": {
        "id": "pf0m3geOwwau"
      }
    },
    {
      "cell_type": "code",
      "source": [
        "var_array2"
      ],
      "metadata": {
        "colab": {
          "base_uri": "https://localhost:8080/"
        },
        "id": "Ai4LBRWjxUQp",
        "outputId": "7351adee-2efc-4b6e-e2b9-9dcc8ef8543a"
      },
      "execution_count": 37,
      "outputs": [
        {
          "output_type": "execute_result",
          "data": {
            "text/plain": [
              "array([ 1,  2,  3,  4,  5,  6,  7,  8,  9, 10])"
            ]
          },
          "metadata": {},
          "execution_count": 37
        }
      ]
    },
    {
      "cell_type": "code",
      "source": [
        "np.mean(var_array2)"
      ],
      "metadata": {
        "colab": {
          "base_uri": "https://localhost:8080/"
        },
        "id": "zHzpLkeVxyUP",
        "outputId": "f0c0127c-6673-4cc2-9387-caa6646a7ebe"
      },
      "execution_count": 38,
      "outputs": [
        {
          "output_type": "execute_result",
          "data": {
            "text/plain": [
              "np.float64(5.5)"
            ]
          },
          "metadata": {},
          "execution_count": 38
        }
      ]
    },
    {
      "cell_type": "code",
      "source": [
        "var_array2.mean()"
      ],
      "metadata": {
        "colab": {
          "base_uri": "https://localhost:8080/"
        },
        "id": "Uf7022PAx2zb",
        "outputId": "9f6630a0-975a-42e9-c712-e8caf304da62"
      },
      "execution_count": 39,
      "outputs": [
        {
          "output_type": "execute_result",
          "data": {
            "text/plain": [
              "np.float64(5.5)"
            ]
          },
          "metadata": {},
          "execution_count": 39
        }
      ]
    },
    {
      "cell_type": "code",
      "source": [
        "np.median(var_array2)"
      ],
      "metadata": {
        "colab": {
          "base_uri": "https://localhost:8080/"
        },
        "id": "gG1LoRl4x8wM",
        "outputId": "96248f91-1a16-422a-af63-a45aeeccfcf6"
      },
      "execution_count": 40,
      "outputs": [
        {
          "output_type": "execute_result",
          "data": {
            "text/plain": [
              "np.float64(5.5)"
            ]
          },
          "metadata": {},
          "execution_count": 40
        }
      ]
    },
    {
      "cell_type": "code",
      "source": [
        "np.min(var_array2)"
      ],
      "metadata": {
        "colab": {
          "base_uri": "https://localhost:8080/"
        },
        "id": "0m_7E_UvyF7w",
        "outputId": "f790dc6d-6234-4165-b35f-4d78d3d11f39"
      },
      "execution_count": 41,
      "outputs": [
        {
          "output_type": "execute_result",
          "data": {
            "text/plain": [
              "np.int64(1)"
            ]
          },
          "metadata": {},
          "execution_count": 41
        }
      ]
    },
    {
      "cell_type": "code",
      "source": [
        "np.max(var_array2)"
      ],
      "metadata": {
        "colab": {
          "base_uri": "https://localhost:8080/"
        },
        "id": "rciNJk8xyO6-",
        "outputId": "8e66ac2e-a9a1-4374-873c-43e0645c66bb"
      },
      "execution_count": 42,
      "outputs": [
        {
          "output_type": "execute_result",
          "data": {
            "text/plain": [
              "np.int64(10)"
            ]
          },
          "metadata": {},
          "execution_count": 42
        }
      ]
    },
    {
      "cell_type": "code",
      "source": [
        "np.std(var_array2)"
      ],
      "metadata": {
        "colab": {
          "base_uri": "https://localhost:8080/"
        },
        "id": "asn7v-3JycE8",
        "outputId": "817059a5-f20e-432a-d31b-e62449e983fc"
      },
      "execution_count": 43,
      "outputs": [
        {
          "output_type": "execute_result",
          "data": {
            "text/plain": [
              "np.float64(2.8722813232690143)"
            ]
          },
          "metadata": {},
          "execution_count": 43
        }
      ]
    },
    {
      "cell_type": "code",
      "source": [
        "np.var(var_array2)"
      ],
      "metadata": {
        "colab": {
          "base_uri": "https://localhost:8080/"
        },
        "id": "25JOXMAVyfKb",
        "outputId": "b16854e8-abdb-41e6-d77f-9ec4ed411f4b"
      },
      "execution_count": 44,
      "outputs": [
        {
          "output_type": "execute_result",
          "data": {
            "text/plain": [
              "np.float64(8.25)"
            ]
          },
          "metadata": {},
          "execution_count": 44
        }
      ]
    },
    {
      "cell_type": "code",
      "source": [
        "np.sum(var_array2)"
      ],
      "metadata": {
        "colab": {
          "base_uri": "https://localhost:8080/"
        },
        "id": "YNFwe_Xlygun",
        "outputId": "f836bc27-5632-4fb0-d151-7d870f5ed3ba"
      },
      "execution_count": 45,
      "outputs": [
        {
          "output_type": "execute_result",
          "data": {
            "text/plain": [
              "np.int64(55)"
            ]
          },
          "metadata": {},
          "execution_count": 45
        }
      ]
    },
    {
      "cell_type": "markdown",
      "source": [],
      "metadata": {
        "id": "1lk60ljbY2iw"
      }
    },
    {
      "cell_type": "markdown",
      "source": [
        "### ARRAY GENERATOR\n",
        "\n",
        "Modul **Numpy** memiliki beberapa fungsi untuk mengenerate array <br>\n",
        "**np.random.rand()** -> generate array dengan angka float 0-1 <br>\n",
        "**np.random.randint()** -> generate array dengan angka integer <br>\n",
        "**np.arrange** -> generate array dengan menentukan jarak antar angkanya <br>\n",
        "**np.linspace** -> generate array dengan menentukan jumlah angka yang diinginkan dalam array dengan jarak yang konstan"
      ],
      "metadata": {
        "id": "Glcuja24Y2zP"
      }
    },
    {
      "cell_type": "code",
      "source": [
        "# rand()\n",
        "np.random .rand(10) * 100 # mengambil nilai random dari rentang 0-100 dgn jlh 10 data"
      ],
      "metadata": {
        "colab": {
          "base_uri": "https://localhost:8080/"
        },
        "id": "LV3WuW4HZoDp",
        "outputId": "f411493d-9127-4957-dfed-afb198d698e2"
      },
      "execution_count": 46,
      "outputs": [
        {
          "output_type": "execute_result",
          "data": {
            "text/plain": [
              "array([19.1021444 , 74.52790266, 46.4266945 , 12.629043  , 78.60590685,\n",
              "       24.17754198, 96.3141772 ,  9.48468056, 98.68058825, 70.99155938])"
            ]
          },
          "metadata": {},
          "execution_count": 46
        }
      ]
    },
    {
      "cell_type": "code",
      "source": [
        "# rand()\n",
        "np.random.rand(10) * 20 + 20 # mengambil nilai random dari rentang 20-40 dgn jlh data 10"
      ],
      "metadata": {
        "colab": {
          "base_uri": "https://localhost:8080/"
        },
        "id": "V5wAWsCEahWA",
        "outputId": "2a75cdd9-7676-43d6-8247-05991233e18e"
      },
      "execution_count": 47,
      "outputs": [
        {
          "output_type": "execute_result",
          "data": {
            "text/plain": [
              "array([36.83446483, 23.14302796, 22.21812717, 36.09872526, 28.78925382,\n",
              "       38.39552594, 31.81549863, 26.79052478, 29.95374844, 27.57384288])"
            ]
          },
          "metadata": {},
          "execution_count": 47
        }
      ]
    },
    {
      "cell_type": "code",
      "source": [
        "# rand()\n",
        "np.random.rand(10) * 100 + 100 # mengambil nilai random dari rentang 100-200 dgn jlh data 10"
      ],
      "metadata": {
        "colab": {
          "base_uri": "https://localhost:8080/"
        },
        "id": "030RlAhwa-6H",
        "outputId": "98a7bf16-1acf-4484-acd2-0c7f58ca1a32"
      },
      "execution_count": 48,
      "outputs": [
        {
          "output_type": "execute_result",
          "data": {
            "text/plain": [
              "array([155.34001588, 102.24548232, 149.11616985, 132.14259169,\n",
              "       120.1760149 , 145.02874102, 100.08593734, 121.66031339,\n",
              "       178.85448746, 150.98860569])"
            ]
          },
          "metadata": {},
          "execution_count": 48
        }
      ]
    },
    {
      "cell_type": "code",
      "source": [
        "# randint()\n",
        "# 10->batas bawah, 90->batas atas, 5->jlh data\n",
        "np.random.randint(10, 90, 5)"
      ],
      "metadata": {
        "colab": {
          "base_uri": "https://localhost:8080/"
        },
        "id": "UiB2Nc0Qb4hF",
        "outputId": "c52253b8-4778-431f-d814-1999a36cfa27"
      },
      "execution_count": 49,
      "outputs": [
        {
          "output_type": "execute_result",
          "data": {
            "text/plain": [
              "array([76, 32, 18, 18, 79])"
            ]
          },
          "metadata": {},
          "execution_count": 49
        }
      ]
    },
    {
      "cell_type": "code",
      "source": [
        "# arange()\n",
        "# 0->batas bawah, 100->batas atas, 2->interval/jarak antar data\n",
        "np.arange(0, 102, 2)"
      ],
      "metadata": {
        "colab": {
          "base_uri": "https://localhost:8080/"
        },
        "id": "U8dl9xd-cGMH",
        "outputId": "5d2875f3-d4c9-465a-ee3b-c8ddcbb42b03"
      },
      "execution_count": 50,
      "outputs": [
        {
          "output_type": "execute_result",
          "data": {
            "text/plain": [
              "array([  0,   2,   4,   6,   8,  10,  12,  14,  16,  18,  20,  22,  24,\n",
              "        26,  28,  30,  32,  34,  36,  38,  40,  42,  44,  46,  48,  50,\n",
              "        52,  54,  56,  58,  60,  62,  64,  66,  68,  70,  72,  74,  76,\n",
              "        78,  80,  82,  84,  86,  88,  90,  92,  94,  96,  98, 100])"
            ]
          },
          "metadata": {},
          "execution_count": 50
        }
      ]
    },
    {
      "cell_type": "code",
      "source": [
        "# linspace()\n",
        "# 0->batas bawah, 100->batas atas, 51->banyak data\n",
        "np.linspace(0, 100, 51)"
      ],
      "metadata": {
        "colab": {
          "base_uri": "https://localhost:8080/"
        },
        "id": "uVzmzr6Fcin1",
        "outputId": "59aa74d1-a33b-48dd-bf06-512aabd3a5a0"
      },
      "execution_count": 51,
      "outputs": [
        {
          "output_type": "execute_result",
          "data": {
            "text/plain": [
              "array([  0.,   2.,   4.,   6.,   8.,  10.,  12.,  14.,  16.,  18.,  20.,\n",
              "        22.,  24.,  26.,  28.,  30.,  32.,  34.,  36.,  38.,  40.,  42.,\n",
              "        44.,  46.,  48.,  50.,  52.,  54.,  56.,  58.,  60.,  62.,  64.,\n",
              "        66.,  68.,  70.,  72.,  74.,  76.,  78.,  80.,  82.,  84.,  86.,\n",
              "        88.,  90.,  92.,  94.,  96.,  98., 100.])"
            ]
          },
          "metadata": {},
          "execution_count": 51
        }
      ]
    },
    {
      "cell_type": "code",
      "source": [
        "(np.arange(0, 102, 2) == np.linspace(0, 100, 51))"
      ],
      "metadata": {
        "colab": {
          "base_uri": "https://localhost:8080/"
        },
        "id": "Ijzehjy8dWbn",
        "outputId": "8e49557d-13d5-473a-f1a4-a0fc2373d740"
      },
      "execution_count": 52,
      "outputs": [
        {
          "output_type": "execute_result",
          "data": {
            "text/plain": [
              "array([ True,  True,  True,  True,  True,  True,  True,  True,  True,\n",
              "        True,  True,  True,  True,  True,  True,  True,  True,  True,\n",
              "        True,  True,  True,  True,  True,  True,  True,  True,  True,\n",
              "        True,  True,  True,  True,  True,  True,  True,  True,  True,\n",
              "        True,  True,  True,  True,  True,  True,  True,  True,  True,\n",
              "        True,  True,  True,  True,  True,  True])"
            ]
          },
          "metadata": {},
          "execution_count": 52
        }
      ]
    },
    {
      "cell_type": "code",
      "source": [
        "(np.arange(0, 102, 2) == np.linspace(0, 100, 51)).all()"
      ],
      "metadata": {
        "colab": {
          "base_uri": "https://localhost:8080/"
        },
        "id": "Vsd6JzoLeHN4",
        "outputId": "a4a2c066-9f0e-4f94-9670-decef7ad2a1a"
      },
      "execution_count": 53,
      "outputs": [
        {
          "output_type": "execute_result",
          "data": {
            "text/plain": [
              "np.True_"
            ]
          },
          "metadata": {},
          "execution_count": 53
        }
      ]
    },
    {
      "cell_type": "code",
      "source": [
        "import numpy as np\n",
        "\n",
        "a = [0, 1, 2, 3]\n",
        "b = [2, 0, 9, 2]\n",
        "\n",
        "# Buat 2D array \"c\" dari 2 list tsb\n",
        "c = np.array([a, b])\n",
        "c"
      ],
      "metadata": {
        "colab": {
          "base_uri": "https://localhost:8080/"
        },
        "id": "mVvZ_EGYeOsu",
        "outputId": "58c41d35-fc09-42b0-f17a-5402a0d540c5"
      },
      "execution_count": 54,
      "outputs": [
        {
          "output_type": "execute_result",
          "data": {
            "text/plain": [
              "array([[0, 1, 2, 3],\n",
              "       [2, 0, 9, 2]])"
            ]
          },
          "metadata": {},
          "execution_count": 54
        }
      ]
    },
    {
      "cell_type": "code",
      "source": [
        "# Subset data pada posisi row 1 dan kolom 3 dari array yg dibuat\n",
        "subset_c = c[1, 3]\n",
        "subset_c"
      ],
      "metadata": {
        "colab": {
          "base_uri": "https://localhost:8080/"
        },
        "id": "Uy5oM11BfdsP",
        "outputId": "c967f718-227a-47d5-b3c5-e4462735c470"
      },
      "execution_count": 55,
      "outputs": [
        {
          "output_type": "execute_result",
          "data": {
            "text/plain": [
              "np.int64(2)"
            ]
          },
          "metadata": {},
          "execution_count": 55
        }
      ]
    },
    {
      "cell_type": "code",
      "source": [
        "# Menentukan nilai mean dan median dari nilai yg ada di array\n",
        "# mean\n",
        "mean_c = np.mean(c)\n",
        "mean_c"
      ],
      "metadata": {
        "colab": {
          "base_uri": "https://localhost:8080/"
        },
        "id": "GGOKAQ_3f8ph",
        "outputId": "83234dea-18f5-4bf2-e5bc-33bcd926ced1"
      },
      "execution_count": 56,
      "outputs": [
        {
          "output_type": "execute_result",
          "data": {
            "text/plain": [
              "np.float64(2.375)"
            ]
          },
          "metadata": {},
          "execution_count": 56
        }
      ]
    },
    {
      "cell_type": "code",
      "source": [
        "# median\n",
        "median_c = np.median(c)\n",
        "median_c"
      ],
      "metadata": {
        "colab": {
          "base_uri": "https://localhost:8080/"
        },
        "id": "L1X_OKaagWwI",
        "outputId": "ede9a010-b411-4a98-ef30-26441048485b"
      },
      "execution_count": 57,
      "outputs": [
        {
          "output_type": "execute_result",
          "data": {
            "text/plain": [
              "np.float64(2.0)"
            ]
          },
          "metadata": {},
          "execution_count": 57
        }
      ]
    },
    {
      "cell_type": "code",
      "source": [
        "# convert array 2D to 1D\n",
        "c.flatten()"
      ],
      "metadata": {
        "colab": {
          "base_uri": "https://localhost:8080/"
        },
        "id": "SfB9PXiZgcQw",
        "outputId": "dcb77af0-8509-42e7-b3b9-778ff4ddd55b"
      },
      "execution_count": 58,
      "outputs": [
        {
          "output_type": "execute_result",
          "data": {
            "text/plain": [
              "array([0, 1, 2, 3, 2, 0, 9, 2])"
            ]
          },
          "metadata": {},
          "execution_count": 58
        }
      ]
    },
    {
      "cell_type": "code",
      "source": [
        "# Generate array berisi 10 float dgn range 1250-1500\n",
        "arr_float = np.random.rand(10) * 250 + 1250\n",
        "arr_float"
      ],
      "metadata": {
        "colab": {
          "base_uri": "https://localhost:8080/"
        },
        "id": "gogCidzSh1IP",
        "outputId": "22d6d93f-d3ac-447b-80ef-838f56fbccc4"
      },
      "execution_count": 59,
      "outputs": [
        {
          "output_type": "execute_result",
          "data": {
            "text/plain": [
              "array([1412.06739172, 1432.42015287, 1491.87521292, 1347.68260863,\n",
              "       1480.65440414, 1492.50580072, 1410.69575432, 1297.22765282,\n",
              "       1400.85515959, 1441.04803628])"
            ]
          },
          "metadata": {},
          "execution_count": 59
        }
      ]
    },
    {
      "cell_type": "code",
      "source": [
        "# Generate array berisi 10 integer dgn range 0-10\n",
        "arr_int = np.random.randint(0, 10, 10)\n",
        "arr_int"
      ],
      "metadata": {
        "colab": {
          "base_uri": "https://localhost:8080/"
        },
        "id": "XIXzdtUHizaP",
        "outputId": "88660344-3a10-4223-e1b4-99e508826ea6"
      },
      "execution_count": 60,
      "outputs": [
        {
          "output_type": "execute_result",
          "data": {
            "text/plain": [
              "array([5, 3, 4, 4, 9, 8, 2, 4, 8, 0])"
            ]
          },
          "metadata": {},
          "execution_count": 60
        }
      ]
    },
    {
      "cell_type": "code",
      "source": [
        "# Generate array berisi angka dgn range 0-10 dgn jarak antar angkanya 2\n",
        "arr_arange = np.arange(0, 10, 2)\n",
        "arr_arange"
      ],
      "metadata": {
        "colab": {
          "base_uri": "https://localhost:8080/"
        },
        "id": "xCY1UswfjM2B",
        "outputId": "0c2872b3-21a9-4aa2-f10b-033e5e49d6af"
      },
      "execution_count": 61,
      "outputs": [
        {
          "output_type": "execute_result",
          "data": {
            "text/plain": [
              "array([0, 2, 4, 6, 8])"
            ]
          },
          "metadata": {},
          "execution_count": 61
        }
      ]
    },
    {
      "cell_type": "code",
      "source": [
        "# Generate array berisi 5 angka dgn range 0-10 dgn jarak antar angka yg tetap\n",
        "arr_linspace = np.linspace(0, 10, 5)\n",
        "arr_linspace"
      ],
      "metadata": {
        "colab": {
          "base_uri": "https://localhost:8080/"
        },
        "id": "q_2MpFIdjiNd",
        "outputId": "bf647e5e-6a15-4376-e834-6738418bdee0"
      },
      "execution_count": 62,
      "outputs": [
        {
          "output_type": "execute_result",
          "data": {
            "text/plain": [
              "array([ 0. ,  2.5,  5. ,  7.5, 10. ])"
            ]
          },
          "metadata": {},
          "execution_count": 62
        }
      ]
    },
    {
      "cell_type": "markdown",
      "source": [
        "### MEMBUAT LINE PLOT\n",
        "\n",
        "**Modul Matplotlib** adalah salah satu modul yang memberikan cara untuk membuat plot"
      ],
      "metadata": {
        "id": "zaS0zFqKfdAB"
      }
    },
    {
      "cell_type": "code",
      "source": [
        "# Import modul\n",
        "import matplotlib.pyplot as plt"
      ],
      "metadata": {
        "id": "279rh0Mrf5FB"
      },
      "execution_count": 63,
      "outputs": []
    },
    {
      "cell_type": "code",
      "source": [
        "x = [1, 2, 3, 4, 5]\n",
        "y = [6, 7, 8, 9, 10]\n",
        "\n",
        "plt.plot(x, y, linestyle = \"--\", c = 'red')\n",
        "# Beberapa modifikasi plot\n",
        "plt.title('My Plot')\n",
        "plt.xlabel('axis x')\n",
        "plt.ylabel('axis y')\n",
        "\n",
        "plt.xticks([1, 2, 3, 4, 5])\n",
        "plt.yticks([6, 7, 8, 9, 10])\n",
        "plt.show()"
      ],
      "metadata": {
        "colab": {
          "base_uri": "https://localhost:8080/",
          "height": 472
        },
        "id": "YCYo44BZgfte",
        "outputId": "7fad8a3b-cf75-47cd-9508-459ef2a04614"
      },
      "execution_count": 68,
      "outputs": [
        {
          "output_type": "display_data",
          "data": {
            "text/plain": [
              "<Figure size 640x480 with 1 Axes>"
            ],
            "image/png": "[encoded data removed]"
          },
          "metadata": {}
        }
      ]
    },
    {
      "cell_type": "code",
      "source": [
        "# Scatter Plot\n",
        "x = [1, 2, 3, 4, 5]\n",
        "y = [6, 7, 8, 9, 10]\n",
        "\n",
        "plt.scatter(x, y, marker = '.', s = 200, c = 'green')\n",
        "# Beberapa modifikasi plot\n",
        "plt.title('My Scatter Plot')\n",
        "plt.xlabel('axis x')\n",
        "plt.ylabel('axis y')\n",
        "\n",
        "plt.xticks([1, 2, 3, 4, 5])\n",
        "plt.yticks([6, 7, 8, 9, 10])\n",
        "plt.show()"
      ],
      "metadata": {
        "colab": {
          "base_uri": "https://localhost:8080/",
          "height": 472
        },
        "id": "i8QxhUn_gmOR",
        "outputId": "ded71efe-1bbc-49fa-ff52-ae2ba6e7f981"
      },
      "execution_count": 71,
      "outputs": [
        {
          "output_type": "display_data",
          "data": {
            "text/plain": [
              "<Figure size 640x480 with 1 Axes>"
            ],
            "image/png": "[encoded data removed]"
          },
          "metadata": {}
        }
      ]
    },
    {
      "cell_type": "markdown",
      "source": [],
      "metadata": {
        "id": "ZL2fkViAih4g"
      }
    },
    {
      "cell_type": "markdown",
      "source": [
        "### MEMBUAT HISTOGRAM\n",
        "\n",
        "**Fungsi** adalah kode yang digunakan untuk menjalankan suatu aksi <br>\n",
        "Fungsi **hist()** menerima argumen **bins** untuk menentukan jumlah **batang** yang dibuat"
      ],
      "metadata": {
        "id": "zlCDp-eFiiM1"
      }
    },
    {
      "cell_type": "code",
      "source": [
        "z = [1, 2, 2, 4, 1, 2, 5, 7, 8, 8, 2]\n",
        "plt.hist(z, bins = 8, range = [0, 8])\n",
        "plt.show()"
      ],
      "metadata": {
        "colab": {
          "base_uri": "https://localhost:8080/",
          "height": 430
        },
        "id": "g_0en6Qxi14h",
        "outputId": "138a1286-a18c-4aec-90fa-1c543dd692a5"
      },
      "execution_count": 72,
      "outputs": [
        {
          "output_type": "display_data",
          "data": {
            "text/plain": [
              "<Figure size 640x480 with 1 Axes>"
            ],
            "image/png": "[encoded data removed]"
          },
          "metadata": {}
        }
      ]
    },
    {
      "cell_type": "code",
      "source": [
        "# Line Plot\n",
        "x_1 = [10, 20, 30, 40, 50]\n",
        "y_1 = [50, 40, 30, 20, 10]\n",
        "\n",
        "plt.plot(x_1, y_1, linestyle = '--', c = 'orange')\n",
        "plt.title('Latihan Plot')\n",
        "plt.xlabel('Nilai X')\n",
        "plt.ylabel('Nilai Y')\n",
        "plt.show()"
      ],
      "metadata": {
        "colab": {
          "base_uri": "https://localhost:8080/",
          "height": 472
        },
        "id": "nKAy3Z2DjzU0",
        "outputId": "2784377d-f642-444d-dd91-02f8302561f7"
      },
      "execution_count": 80,
      "outputs": [
        {
          "output_type": "display_data",
          "data": {
            "text/plain": [
              "<Figure size 640x480 with 1 Axes>"
            ],
            "image/png": "[encoded data removed]"
          },
          "metadata": {}
        }
      ]
    },
    {
      "cell_type": "code",
      "source": [
        "# Scatter Plot\n",
        "x_1 = [10, 20, 30, 40, 50]\n",
        "y_1 = [50, 40, 30, 20, 10]\n",
        "\n",
        "plt.scatter(x_1, y_1, marker = '*', c = 'green', s = 200)\n",
        "plt.title('Latihan Plot')\n",
        "plt.xlabel('Nilai X')\n",
        "plt.ylabel('Nilai Y')\n",
        "plt.show()"
      ],
      "metadata": {
        "colab": {
          "base_uri": "https://localhost:8080/",
          "height": 472
        },
        "id": "vHT3EOPPo6gU",
        "outputId": "de77232a-6769-4d33-acf6-7365ee1f404a"
      },
      "execution_count": 84,
      "outputs": [
        {
          "output_type": "display_data",
          "data": {
            "text/plain": [
              "<Figure size 640x480 with 1 Axes>"
            ],
            "image/png": "[encoded data removed]"
          },
          "metadata": {}
        }
      ]
    },
    {
      "cell_type": "code",
      "source": [
        "# Histogram\n",
        "z_1 = [0, 0, 0, 100, 100, 200, 200, 200, 400, 500, 500, 500, 500]\n",
        "\n",
        "plt.hist(z, bins = 5)\n",
        "plt.show()"
      ],
      "metadata": {
        "colab": {
          "base_uri": "https://localhost:8080/",
          "height": 430
        },
        "id": "uois0ZCYpdsc",
        "outputId": "e729c090-f842-4da1-ce8e-0b91c5f5077c"
      },
      "execution_count": 86,
      "outputs": [
        {
          "output_type": "display_data",
          "data": {
            "text/plain": [
              "<Figure size 640x480 with 1 Axes>"
            ],
            "image/png": "[encoded data removed]"
          },
          "metadata": {}
        }
      ]
    },
    {
      "cell_type": "code",
      "source": [],
      "metadata": {
        "id": "X2_XoCUep65I"
      },
      "execution_count": null,
      "outputs": []
    }
  ]
}