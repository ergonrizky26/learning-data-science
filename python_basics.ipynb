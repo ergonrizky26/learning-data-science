{
  "nbformat": 4,
  "nbformat_minor": 0,
  "metadata": {
    "colab": {
      "provenance": [],
      "authorship_tag": "ABX9TyMfJ1QghtL3CbY4qyLS0Ub9",
      "include_colab_link": true
    },
    "kernelspec": {
      "name": "python3",
      "display_name": "Python 3"
    },
    "language_info": {
      "name": "python"
    }
  },
  "cells": [
    {
      "cell_type": "markdown",
      "metadata": {
        "id": "view-in-github",
        "colab_type": "text"
      },
      "source": [
        "<a href=\"https://colab.research.google.com/github/ergonrizky26/learning-data-science/blob/main/python_basics.ipynb\" target=\"_parent\"><img src=\"https://colab.research.google.com/assets/colab-badge.svg\" alt=\"Open In Colab\"/></a>"
      ]
    },
    {
      "cell_type": "markdown",
      "source": [
        "## FUNGSI\n",
        "\n",
        "**Fungsi** adalah kode yang digunakan untuk menjalankan suatu aksi\n",
        "Contoh fungsi adalah **print()** yang digunakan untuk menampilkan argumen pada output"
      ],
      "metadata": {
        "id": "ddLUbu3n7a_u"
      }
    },
    {
      "cell_type": "code",
      "source": [
        "print('Ergon Rizky')"
      ],
      "metadata": {
        "colab": {
          "base_uri": "https://localhost:8080/"
        },
        "id": "9hcUjKaX8Cs6",
        "outputId": "e9cd0e77-9143-4711-ab39-c49a67045e4c"
      },
      "execution_count": null,
      "outputs": [
        {
          "output_type": "stream",
          "name": "stdout",
          "text": [
            "Ergon Rizky\n"
          ]
        }
      ]
    },
    {
      "cell_type": "code",
      "source": [
        "print('17 Maret 2025')"
      ],
      "metadata": {
        "colab": {
          "base_uri": "https://localhost:8080/"
        },
        "id": "DAW42mVN8QKC",
        "outputId": "c029813b-49de-40be-bbb0-269100745054"
      },
      "execution_count": null,
      "outputs": [
        {
          "output_type": "stream",
          "name": "stdout",
          "text": [
            "17 Maret 2025\n"
          ]
        }
      ]
    },
    {
      "cell_type": "code",
      "source": [
        "print(100/10)"
      ],
      "metadata": {
        "colab": {
          "base_uri": "https://localhost:8080/"
        },
        "id": "s_MJ4VMC8TZS",
        "outputId": "bc4a206e-0e62-44a6-cb2c-709dfc185cc3"
      },
      "execution_count": null,
      "outputs": [
        {
          "output_type": "stream",
          "name": "stdout",
          "text": [
            "10.0\n"
          ]
        }
      ]
    },
    {
      "cell_type": "code",
      "source": [
        "print(2*5)"
      ],
      "metadata": {
        "colab": {
          "base_uri": "https://localhost:8080/"
        },
        "id": "ns8m_t9R8U1h",
        "outputId": "5ca70171-3373-46d2-b641-0f1f71dc50a4"
      },
      "execution_count": null,
      "outputs": [
        {
          "output_type": "stream",
          "name": "stdout",
          "text": [
            "10\n"
          ]
        }
      ]
    },
    {
      "cell_type": "code",
      "source": [
        "print(type(100/10))"
      ],
      "metadata": {
        "colab": {
          "base_uri": "https://localhost:8080/"
        },
        "id": "xK44V8zA8Wa9",
        "outputId": "16bd88b2-4d69-4d6d-c904-cf95169c0ed6"
      },
      "execution_count": null,
      "outputs": [
        {
          "output_type": "stream",
          "name": "stdout",
          "text": [
            "<class 'float'>\n"
          ]
        }
      ]
    },
    {
      "cell_type": "code",
      "source": [
        "print(len('Ergon Rizky'))"
      ],
      "metadata": {
        "colab": {
          "base_uri": "https://localhost:8080/"
        },
        "id": "Vd45E2ZD8YfY",
        "outputId": "26b5f843-2d6b-4840-a961-77cdc1eeddca"
      },
      "execution_count": null,
      "outputs": [
        {
          "output_type": "stream",
          "name": "stdout",
          "text": [
            "11\n"
          ]
        }
      ]
    },
    {
      "cell_type": "markdown",
      "source": [],
      "metadata": {
        "id": "1gsE68G_84Cn"
      }
    },
    {
      "cell_type": "markdown",
      "source": [
        "## VARIABEL\n",
        "\n",
        "**Variabel** adalah container yang dipakai untuk menyimpan data. Variabel dipakai agar tidak perlu mengulang menuliskan data setiap akan menjalankan suatu fungsi terhadap data tersebut. Dibuat dengan menuliskan nama variabel diikutin dengan **'='**"
      ],
      "metadata": {
        "id": "vnnREewK84fm"
      }
    },
    {
      "cell_type": "code",
      "source": [
        "# Contoh variabel\n",
        "int_a = 10;\n",
        "float_a = 10.5;\n",
        "string_a = 'contoh string';\n",
        "boolean_a = True;"
      ],
      "metadata": {
        "id": "E3oOAfdUAVru"
      },
      "execution_count": null,
      "outputs": []
    },
    {
      "cell_type": "markdown",
      "source": [
        "## TIPE DATA\n",
        "\n",
        "Beberapa tipe data yang dikenal oleh **Python**:\n",
        "1. Integer -> Bilangan bulat\n",
        "2. Float -> Bilangan pecahan\n",
        "3. String -> Teks\n",
        "4. Boolean -> True/*False*"
      ],
      "metadata": {
        "id": "cWqvKYQR_eN-"
      }
    },
    {
      "cell_type": "code",
      "source": [
        "# Identifikasi tipe data\n",
        "print(type(int_a))\n",
        "print(type(float_a))\n",
        "print(type(string_a))\n",
        "print(type(boolean_a))"
      ],
      "metadata": {
        "colab": {
          "base_uri": "https://localhost:8080/"
        },
        "id": "93uPngGq_mG_",
        "outputId": "2cf9482a-aac5-4d81-d2c5-2098d5cb3379"
      },
      "execution_count": null,
      "outputs": [
        {
          "output_type": "stream",
          "name": "stdout",
          "text": [
            "<class 'int'>\n",
            "<class 'float'>\n",
            "<class 'str'>\n",
            "<class 'bool'>\n"
          ]
        }
      ]
    },
    {
      "cell_type": "markdown",
      "source": [
        "## LIST\n",
        "\n",
        "**List** adalah kumpulan data yang terstruktur dengan urutan tertentu. Dibuat dengan menuliskan **'['** dan **']'** dan dipisahkan dengan **','**. Dalam list, tiap data memiliki index dengan urutan dari 0, 1, 2, dst"
      ],
      "metadata": {
        "id": "2rPAwmYlBaQO"
      }
    },
    {
      "cell_type": "markdown",
      "source": [
        "**Index** diperlukan untuk **subsetting** : mendidentifikasi/memanggil data dengan urutan tertentu dari list"
      ],
      "metadata": {
        "id": "cq6H_XufCKX0"
      }
    },
    {
      "cell_type": "code",
      "source": [
        "warna = ['merah', 'kuning', 'biru']\n",
        "warna[1]"
      ],
      "metadata": {
        "colab": {
          "base_uri": "https://localhost:8080/",
          "height": 35
        },
        "id": "6rFnbyx6CUhB",
        "outputId": "c17ad12a-23f9-4d51-9e8a-f2756135a184"
      },
      "execution_count": null,
      "outputs": [
        {
          "output_type": "execute_result",
          "data": {
            "text/plain": [
              "'kuning'"
            ],
            "application/vnd.google.colaboratory.intrinsic+json": {
              "type": "string"
            }
          },
          "metadata": {},
          "execution_count": 9
        }
      ]
    },
    {
      "cell_type": "code",
      "source": [
        "warna[-1] # Indeks -1 menunjukkan data dengan urutan terakhir"
      ],
      "metadata": {
        "colab": {
          "base_uri": "https://localhost:8080/",
          "height": 35
        },
        "id": "255rdHTVC1pn",
        "outputId": "c2a16e48-ec9a-4a9c-fae4-d04e9cf3fe15"
      },
      "execution_count": null,
      "outputs": [
        {
          "output_type": "execute_result",
          "data": {
            "text/plain": [
              "'biru'"
            ],
            "application/vnd.google.colaboratory.intrinsic+json": {
              "type": "string"
            }
          },
          "metadata": {},
          "execution_count": 10
        }
      ]
    },
    {
      "cell_type": "markdown",
      "source": [],
      "metadata": {
        "id": "2CgH71GbDH3Y"
      }
    },
    {
      "cell_type": "markdown",
      "source": [
        "## SLICING PADA LIST\n",
        "\n",
        "**Slicing** adalah proses memotong list dengan range indeks tertentu. Range indeks ditulis dengan **['indeks awal : 'indeks akhir']**. </br>\n",
        "Indeks awal akan diikutsertakan pada output, sedangkan Indeks akhir tidak diikutsertakan pada output."
      ],
      "metadata": {
        "id": "dRCHXF0NDIHW"
      }
    },
    {
      "cell_type": "markdown",
      "source": [
        "### Latihan List dan Slicing"
      ],
      "metadata": {
        "id": "4jG6wE6jEkg1"
      }
    },
    {
      "cell_type": "code",
      "source": [
        "nama = 'ergon rizky'\n",
        "jarak_km = 5\n",
        "jarak_mil = 5 * 0.62\n",
        "jarak_beda = jarak_km == jarak_mil\n",
        "\n",
        "print(type(nama))\n",
        "print(type(jarak_km))\n",
        "print(type(jarak_mil))\n",
        "print(type(jarak_beda))"
      ],
      "metadata": {
        "colab": {
          "base_uri": "https://localhost:8080/"
        },
        "id": "3bGfMSPGEmJF",
        "outputId": "1ddf32d7-378d-4682-cdf2-87b83cf42090"
      },
      "execution_count": null,
      "outputs": [
        {
          "output_type": "stream",
          "name": "stdout",
          "text": [
            "<class 'str'>\n",
            "<class 'int'>\n",
            "<class 'float'>\n",
            "<class 'bool'>\n"
          ]
        }
      ]
    },
    {
      "cell_type": "code",
      "source": [
        "list_a = [nama, jarak_km, jarak_mil, jarak_beda]\n",
        "list_a"
      ],
      "metadata": {
        "colab": {
          "base_uri": "https://localhost:8080/"
        },
        "id": "9XxvX6YhE55A",
        "outputId": "e6c82224-b5f5-490a-c9f5-f2938ecd1a02"
      },
      "execution_count": null,
      "outputs": [
        {
          "output_type": "execute_result",
          "data": {
            "text/plain": [
              "['ergon rizky', 5, 3.1, False]"
            ]
          },
          "metadata": {},
          "execution_count": 12
        }
      ]
    },
    {
      "cell_type": "code",
      "source": [
        "# Slice 2 data terakhir\n",
        "list_a[-2:]"
      ],
      "metadata": {
        "colab": {
          "base_uri": "https://localhost:8080/"
        },
        "id": "npUjK5aTFFEl",
        "outputId": "83c2cb5b-6580-4337-d918-01c217a8771a"
      },
      "execution_count": null,
      "outputs": [
        {
          "output_type": "execute_result",
          "data": {
            "text/plain": [
              "[3.1, False]"
            ]
          },
          "metadata": {},
          "execution_count": 13
        }
      ]
    },
    {
      "cell_type": "code",
      "source": [
        "# Slice 2 data pertama\n",
        "list_a[0:2]"
      ],
      "metadata": {
        "colab": {
          "base_uri": "https://localhost:8080/"
        },
        "id": "fJMwA3KhFZER",
        "outputId": "fb66e7d8-5ab9-4552-8c4f-7c9b22681cda"
      },
      "execution_count": null,
      "outputs": [
        {
          "output_type": "execute_result",
          "data": {
            "text/plain": [
              "['ergon rizky', 5]"
            ]
          },
          "metadata": {},
          "execution_count": 14
        }
      ]
    },
    {
      "cell_type": "code",
      "source": [],
      "metadata": {
        "id": "6Ckhp7taFfiC"
      },
      "execution_count": null,
      "outputs": []
    }
  ]
}