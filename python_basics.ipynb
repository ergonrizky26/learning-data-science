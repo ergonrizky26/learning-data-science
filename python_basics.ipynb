{
  "nbformat": 4,
  "nbformat_minor": 0,
  "metadata": {
    "colab": {
      "provenance": [],
      "authorship_tag": "ABX9TyO9DjzHMFrzsPtHgwGYe+B7",
      "include_colab_link": true
    },
    "kernelspec": {
      "name": "python3",
      "display_name": "Python 3"
    },
    "language_info": {
      "name": "python"
    }
  },
  "cells": [
    {
      "cell_type": "markdown",
      "metadata": {
        "id": "view-in-github",
        "colab_type": "text"
      },
      "source": [
        "<a href=\"https://colab.research.google.com/github/ergonrizky26/learning-data-science/blob/main/python_basics.ipynb\" target=\"_parent\"><img src=\"https://colab.research.google.com/assets/colab-badge.svg\" alt=\"Open In Colab\"/></a>"
      ]
    },
    {
      "cell_type": "markdown",
      "source": [
        "## FUNGSI\n",
        "\n",
        "**Fungsi** adalah kode yang digunakan untuk menjalankan suatu aksi\n",
        "Contoh fungsi adalah **print()** yang digunakan untuk menampilkan argumen pada output"
      ],
      "metadata": {
        "id": "ddLUbu3n7a_u"
      }
    },
    {
      "cell_type": "code",
      "source": [
        "print('Ergon Rizky')"
      ],
      "metadata": {
        "colab": {
          "base_uri": "https://localhost:8080/"
        },
        "id": "9hcUjKaX8Cs6",
        "outputId": "3fe738bd-0c3c-4ad0-f553-9f099038e00f"
      },
      "execution_count": 1,
      "outputs": [
        {
          "output_type": "stream",
          "name": "stdout",
          "text": [
            "Ergon Rizky\n"
          ]
        }
      ]
    },
    {
      "cell_type": "code",
      "source": [
        "print('17 Maret 2025')"
      ],
      "metadata": {
        "colab": {
          "base_uri": "https://localhost:8080/"
        },
        "id": "DAW42mVN8QKC",
        "outputId": "dca7e505-9cfc-4a93-a88b-489360baf4a4"
      },
      "execution_count": 2,
      "outputs": [
        {
          "output_type": "stream",
          "name": "stdout",
          "text": [
            "17 Maret 2025\n"
          ]
        }
      ]
    },
    {
      "cell_type": "code",
      "source": [
        "print(100/10)"
      ],
      "metadata": {
        "colab": {
          "base_uri": "https://localhost:8080/"
        },
        "id": "s_MJ4VMC8TZS",
        "outputId": "fb2b7ba9-316b-4b3a-ed07-8fcc63163613"
      },
      "execution_count": 3,
      "outputs": [
        {
          "output_type": "stream",
          "name": "stdout",
          "text": [
            "10.0\n"
          ]
        }
      ]
    },
    {
      "cell_type": "code",
      "source": [
        "print(2*5)"
      ],
      "metadata": {
        "colab": {
          "base_uri": "https://localhost:8080/"
        },
        "id": "ns8m_t9R8U1h",
        "outputId": "18dc185c-e556-4bc5-fbae-c96000497976"
      },
      "execution_count": 4,
      "outputs": [
        {
          "output_type": "stream",
          "name": "stdout",
          "text": [
            "10\n"
          ]
        }
      ]
    },
    {
      "cell_type": "code",
      "source": [
        "print(type(100/10))"
      ],
      "metadata": {
        "colab": {
          "base_uri": "https://localhost:8080/"
        },
        "id": "xK44V8zA8Wa9",
        "outputId": "cec4cb2c-71d6-4b5f-80f6-b553f207048b"
      },
      "execution_count": 5,
      "outputs": [
        {
          "output_type": "stream",
          "name": "stdout",
          "text": [
            "<class 'float'>\n"
          ]
        }
      ]
    },
    {
      "cell_type": "code",
      "source": [
        "print(len('Ergon Rizky'))"
      ],
      "metadata": {
        "colab": {
          "base_uri": "https://localhost:8080/"
        },
        "id": "Vd45E2ZD8YfY",
        "outputId": "b838c24d-612e-4457-b2fb-45895fa8115a"
      },
      "execution_count": 6,
      "outputs": [
        {
          "output_type": "stream",
          "name": "stdout",
          "text": [
            "11\n"
          ]
        }
      ]
    },
    {
      "cell_type": "markdown",
      "source": [],
      "metadata": {
        "id": "1gsE68G_84Cn"
      }
    },
    {
      "cell_type": "markdown",
      "source": [
        "## VARIABEL\n",
        "\n",
        "**Variabel** adalah container yang dipakai untuk menyimpan data. Variabel dipakai agar tidak perlu mengulang menuliskan data setiap akan menjalankan suatu fungsi terhadap data tersebut. Dibuat dengan menuliskan nama variabel diikutin dengan **'='**"
      ],
      "metadata": {
        "id": "vnnREewK84fm"
      }
    },
    {
      "cell_type": "code",
      "source": [
        "# Contoh variabel\n",
        "int_a = 10;\n",
        "float_a = 10.5;\n",
        "string_a = 'contoh string';\n",
        "boolean_a = True;"
      ],
      "metadata": {
        "id": "E3oOAfdUAVru"
      },
      "execution_count": 7,
      "outputs": []
    },
    {
      "cell_type": "markdown",
      "source": [
        "## TIPE DATA\n",
        "\n",
        "Beberapa tipe data yang dikenal oleh **Python**:\n",
        "1. Integer -> Bilangan bulat\n",
        "2. Float -> Bilangan pecahan\n",
        "3. String -> Teks\n",
        "4. Boolean -> True/*False*"
      ],
      "metadata": {
        "id": "cWqvKYQR_eN-"
      }
    },
    {
      "cell_type": "code",
      "source": [
        "# Identifikasi tipe data\n",
        "print(type(int_a))\n",
        "print(type(float_a))\n",
        "print(type(string_a))\n",
        "print(type(boolean_a))"
      ],
      "metadata": {
        "colab": {
          "base_uri": "https://localhost:8080/"
        },
        "id": "93uPngGq_mG_",
        "outputId": "918f460f-9641-4c6c-e12d-a3f3f320308f"
      },
      "execution_count": 8,
      "outputs": [
        {
          "output_type": "stream",
          "name": "stdout",
          "text": [
            "<class 'int'>\n",
            "<class 'float'>\n",
            "<class 'str'>\n",
            "<class 'bool'>\n"
          ]
        }
      ]
    },
    {
      "cell_type": "markdown",
      "source": [
        "## LIST\n",
        "\n",
        "**List** adalah kumpulan data yang terstruktur dengan urutan tertentu. Dibuat dengan menuliskan **'['** dan **']'** dan dipisahkan dengan **','**. Dalam list, tiap data memiliki index dengan urutan dari 0, 1, 2, dst"
      ],
      "metadata": {
        "id": "2rPAwmYlBaQO"
      }
    },
    {
      "cell_type": "markdown",
      "source": [
        "**Index** diperlukan untuk **subsetting** : mendidentifikasi/memanggil data dengan urutan tertentu dari list"
      ],
      "metadata": {
        "id": "cq6H_XufCKX0"
      }
    },
    {
      "cell_type": "code",
      "source": [
        "warna = ['merah', 'kuning', 'biru']\n",
        "warna[1]"
      ],
      "metadata": {
        "colab": {
          "base_uri": "https://localhost:8080/",
          "height": 35
        },
        "id": "6rFnbyx6CUhB",
        "outputId": "fd26eaf9-959a-4fa9-f705-45a88e2de656"
      },
      "execution_count": 9,
      "outputs": [
        {
          "output_type": "execute_result",
          "data": {
            "text/plain": [
              "'kuning'"
            ],
            "application/vnd.google.colaboratory.intrinsic+json": {
              "type": "string"
            }
          },
          "metadata": {},
          "execution_count": 9
        }
      ]
    },
    {
      "cell_type": "code",
      "source": [
        "warna[-1] # Indeks -1 menunjukkan data dengan urutan terakhir"
      ],
      "metadata": {
        "colab": {
          "base_uri": "https://localhost:8080/",
          "height": 35
        },
        "id": "255rdHTVC1pn",
        "outputId": "71d6c3c4-8d5e-4e39-9b38-74f768fee814"
      },
      "execution_count": 10,
      "outputs": [
        {
          "output_type": "execute_result",
          "data": {
            "text/plain": [
              "'biru'"
            ],
            "application/vnd.google.colaboratory.intrinsic+json": {
              "type": "string"
            }
          },
          "metadata": {},
          "execution_count": 10
        }
      ]
    },
    {
      "cell_type": "markdown",
      "source": [],
      "metadata": {
        "id": "2CgH71GbDH3Y"
      }
    },
    {
      "cell_type": "markdown",
      "source": [
        "## SLICING PADA LIST\n",
        "\n",
        "**Slicing** adalah proses memotong list dengan range indeks tertentu. Range indeks ditulis dengan **['indeks awal : 'indeks akhir']**. </br>\n",
        "Indeks awal akan diikutsertakan pada output, sedangkan Indeks akhir tidak diikutsertakan pada output."
      ],
      "metadata": {
        "id": "dRCHXF0NDIHW"
      }
    },
    {
      "cell_type": "markdown",
      "source": [
        "### Latihan List dan Slicing"
      ],
      "metadata": {
        "id": "4jG6wE6jEkg1"
      }
    },
    {
      "cell_type": "code",
      "source": [
        "nama = 'ergon rizky'\n",
        "jarak_km = 5\n",
        "jarak_mil = 5 * 0.62\n",
        "jarak_beda = jarak_km == jarak_mil\n",
        "\n",
        "print(type(nama))\n",
        "print(type(jarak_km))\n",
        "print(type(jarak_mil))\n",
        "print(type(jarak_beda))"
      ],
      "metadata": {
        "colab": {
          "base_uri": "https://localhost:8080/"
        },
        "id": "3bGfMSPGEmJF",
        "outputId": "0ace5cff-36e6-490c-8c57-ed5aad79e916"
      },
      "execution_count": 11,
      "outputs": [
        {
          "output_type": "stream",
          "name": "stdout",
          "text": [
            "<class 'str'>\n",
            "<class 'int'>\n",
            "<class 'float'>\n",
            "<class 'bool'>\n"
          ]
        }
      ]
    },
    {
      "cell_type": "code",
      "source": [
        "list_a = [nama, jarak_km, jarak_mil, jarak_beda]\n",
        "list_a"
      ],
      "metadata": {
        "colab": {
          "base_uri": "https://localhost:8080/"
        },
        "id": "9XxvX6YhE55A",
        "outputId": "fc58b899-c62a-4c77-8690-38101e9c668d"
      },
      "execution_count": 12,
      "outputs": [
        {
          "output_type": "execute_result",
          "data": {
            "text/plain": [
              "['ergon rizky', 5, 3.1, False]"
            ]
          },
          "metadata": {},
          "execution_count": 12
        }
      ]
    },
    {
      "cell_type": "code",
      "source": [
        "# Slice 2 data terakhir\n",
        "list_a[2:]"
      ],
      "metadata": {
        "colab": {
          "base_uri": "https://localhost:8080/"
        },
        "id": "npUjK5aTFFEl",
        "outputId": "17af9d20-3e79-4ce4-82ae-d0eb4ba1c944"
      },
      "execution_count": 13,
      "outputs": [
        {
          "output_type": "execute_result",
          "data": {
            "text/plain": [
              "[3.1, False]"
            ]
          },
          "metadata": {},
          "execution_count": 13
        }
      ]
    },
    {
      "cell_type": "code",
      "source": [
        "# Slice 2 data pertama\n",
        "list_a[:2]"
      ],
      "metadata": {
        "colab": {
          "base_uri": "https://localhost:8080/"
        },
        "id": "fJMwA3KhFZER",
        "outputId": "d682165d-430a-43a3-aa2a-1461afcdd986"
      },
      "execution_count": 14,
      "outputs": [
        {
          "output_type": "execute_result",
          "data": {
            "text/plain": [
              "['ergon rizky', 5]"
            ]
          },
          "metadata": {},
          "execution_count": 14
        }
      ]
    },
    {
      "cell_type": "markdown",
      "source": [],
      "metadata": {
        "id": "WapgxUUL1bW2"
      }
    },
    {
      "cell_type": "markdown",
      "source": [
        "## METODE\n",
        "\n",
        "**Metode** adalah fungsi yang dimiliki oleh objek <br>\n",
        "1. Contoh metode yg dimiliki oleh objek string :\n",
        "-> **upper()** <br>\n",
        "-> **count()** <br>\n",
        "2. Contoh metode yg dimiliki oleh objek list :    \n",
        "-> **index()** <br>\n",
        "-> **count()**\n"
      ],
      "metadata": {
        "id": "TEmbu1rZ1bq-"
      }
    },
    {
      "cell_type": "code",
      "source": [
        "var_string = 'Belajar python'\n",
        "\n",
        "# upper()\n",
        "print(var_string.upper())\n",
        "\n",
        "# count()\n",
        "print(var_string.count('a'))"
      ],
      "metadata": {
        "colab": {
          "base_uri": "https://localhost:8080/"
        },
        "id": "i_CRTCIu1n2z",
        "outputId": "8f8a4ce2-ed78-4199-855f-34787f00fa6a"
      },
      "execution_count": 15,
      "outputs": [
        {
          "output_type": "stream",
          "name": "stdout",
          "text": [
            "BELAJAR PYTHON\n",
            "2\n"
          ]
        }
      ]
    },
    {
      "cell_type": "code",
      "source": [
        "var_list = ['merah', 'kuning', 'hijau', 'biru']\n",
        "\n",
        "# index()\n",
        "var_list.index('kuning')\n",
        "\n",
        "# count()\n",
        "var_list.count('merah')"
      ],
      "metadata": {
        "colab": {
          "base_uri": "https://localhost:8080/"
        },
        "id": "6jQ6NPKQ3YUV",
        "outputId": "e9924134-dfd7-4f0b-b323-3bfcad648a3d"
      },
      "execution_count": 16,
      "outputs": [
        {
          "output_type": "execute_result",
          "data": {
            "text/plain": [
              "1"
            ]
          },
          "metadata": {},
          "execution_count": 16
        }
      ]
    },
    {
      "cell_type": "markdown",
      "source": [
        "## MENGIMPOR MODUL\n",
        "\n",
        "**Modul** adalah file berisikan kumpulan definisi dan pernyataan python\n",
        "<br>\n",
        "1. Modul perlu diimpor untuk mengakses definisi yang terdapat didalamnya <br>\n",
        "2. Contoh modul **math** yg didalamnya terdapat definisi konstanta **pi**\n",
        "<br>\n",
        "3. Modul juga bisa diimpor secara selektif, dimana hanya definisi atau pernyataan tertentu yg diimpor"
      ],
      "metadata": {
        "id": "FqwPzMog4u7h"
      }
    },
    {
      "cell_type": "code",
      "source": [
        "import math\n",
        "math.pi"
      ],
      "metadata": {
        "colab": {
          "base_uri": "https://localhost:8080/"
        },
        "id": "kLPi1gaz5XCL",
        "outputId": "d73de9f4-6614-4781-fef5-1053ebdb4459"
      },
      "execution_count": 17,
      "outputs": [
        {
          "output_type": "execute_result",
          "data": {
            "text/plain": [
              "3.141592653589793"
            ]
          },
          "metadata": {},
          "execution_count": 17
        }
      ]
    },
    {
      "cell_type": "code",
      "source": [
        "import math as mt\n",
        "mt.pi"
      ],
      "metadata": {
        "colab": {
          "base_uri": "https://localhost:8080/"
        },
        "id": "J9sDV4Zf6OBT",
        "outputId": "1f058d80-7f56-4b8c-bde9-cc8871bd45d5"
      },
      "execution_count": 18,
      "outputs": [
        {
          "output_type": "execute_result",
          "data": {
            "text/plain": [
              "3.141592653589793"
            ]
          },
          "metadata": {},
          "execution_count": 18
        }
      ]
    },
    {
      "cell_type": "code",
      "source": [
        "from math import pi\n",
        "pi"
      ],
      "metadata": {
        "colab": {
          "base_uri": "https://localhost:8080/"
        },
        "id": "iAAKrSD06RyA",
        "outputId": "e015000d-72fb-43ea-b96b-ffa1a207cabd"
      },
      "execution_count": 19,
      "outputs": [
        {
          "output_type": "execute_result",
          "data": {
            "text/plain": [
              "3.141592653589793"
            ]
          },
          "metadata": {},
          "execution_count": 19
        }
      ]
    },
    {
      "cell_type": "code",
      "source": [
        "# Penggunaan pi utk menghitung volume lingkaran\n",
        "r = 12\n",
        "vol_bola = 4/3 * pi * r ** 3\n",
        "print('Volume bola adalah {} cm^3'.format(vol_bola))"
      ],
      "metadata": {
        "colab": {
          "base_uri": "https://localhost:8080/"
        },
        "id": "rPa4K8LG6UEK",
        "outputId": "61655d5e-a237-4fb0-a591-0fb2464416ed"
      },
      "execution_count": 20,
      "outputs": [
        {
          "output_type": "stream",
          "name": "stdout",
          "text": [
            "Volume bola adalah 7238.229473870882 cm^3\n"
          ]
        }
      ]
    },
    {
      "cell_type": "code",
      "source": [
        "# Penggunaan sqrt utk menghitung sisi miring segitiga siku-siku\n",
        "from math import sqrt\n",
        "\n",
        "a = 3\n",
        "b = 4\n",
        "c = sqrt(a**2 + b**2)\n",
        "print('Sisi miring segitiga siku-siku adalah {} cm'.format(c))"
      ],
      "metadata": {
        "colab": {
          "base_uri": "https://localhost:8080/"
        },
        "id": "E-zYYrnf6_-A",
        "outputId": "4e5edfaa-ebab-45fb-a120-6e1c9426efbc"
      },
      "execution_count": 21,
      "outputs": [
        {
          "output_type": "stream",
          "name": "stdout",
          "text": [
            "Sisi miring segitiga siku-siku adalah 5.0 cm\n"
          ]
        }
      ]
    },
    {
      "cell_type": "markdown",
      "source": [],
      "metadata": {
        "id": "SiF4tZ4o9JTY"
      }
    },
    {
      "cell_type": "markdown",
      "source": [
        "## NUMPY ARRAY\n",
        "\n",
        "**Numpy** adalah modul pada python yg dapat membuat dan mengolah struktur data array <br>\n",
        "1. Elemen array bersifat homogen (satu tipe) <br>\n",
        "2. Struktur data array optimal untuk analisis numerik <br>\n",
        "3. Data array dapat dibuat dari list <br>\n",
        "4. Operasi aritmatik dapat dilakukan pada data array <br>"
      ],
      "metadata": {
        "id": "EIAQNgTu9JrJ"
      }
    },
    {
      "cell_type": "code",
      "source": [
        "import numpy as np\n",
        "\n",
        "var_list1 = [1, 3, 5, 7]\n",
        "var_array = np.array(var_list1)\n",
        "var_array"
      ],
      "metadata": {
        "id": "Jl2cJ9mG9uDm",
        "colab": {
          "base_uri": "https://localhost:8080/"
        },
        "outputId": "b135804e-7a9a-464b-a9b0-4c3b0d4475fd"
      },
      "execution_count": 22,
      "outputs": [
        {
          "output_type": "execute_result",
          "data": {
            "text/plain": [
              "array([1, 3, 5, 7])"
            ]
          },
          "metadata": {},
          "execution_count": 22
        }
      ]
    },
    {
      "cell_type": "code",
      "source": [
        "var_array + 7"
      ],
      "metadata": {
        "colab": {
          "base_uri": "https://localhost:8080/"
        },
        "id": "dQN7FUA2jdVO",
        "outputId": "2ceb601e-dc7d-4128-9987-f253d08c7bb8"
      },
      "execution_count": 23,
      "outputs": [
        {
          "output_type": "execute_result",
          "data": {
            "text/plain": [
              "array([ 8, 10, 12, 14])"
            ]
          },
          "metadata": {},
          "execution_count": 23
        }
      ]
    },
    {
      "cell_type": "code",
      "source": [
        "var_array / 6"
      ],
      "metadata": {
        "colab": {
          "base_uri": "https://localhost:8080/"
        },
        "id": "6-tRQt9djhaR",
        "outputId": "b9bca8dc-4e41-4459-fa84-b4909647f733"
      },
      "execution_count": 24,
      "outputs": [
        {
          "output_type": "execute_result",
          "data": {
            "text/plain": [
              "array([0.16666667, 0.5       , 0.83333333, 1.16666667])"
            ]
          },
          "metadata": {},
          "execution_count": 24
        }
      ]
    },
    {
      "cell_type": "code",
      "source": [
        "var_list_campur = [3, 'nama', True]\n",
        "var_arrray_campur = np.array(var_list_campur)\n",
        "var_arrray_campur #numpy array bersifat homogen, semua list dgn tipe data berbeda akan diubah menjadi string di array"
      ],
      "metadata": {
        "colab": {
          "base_uri": "https://localhost:8080/"
        },
        "id": "o2bD_n1xjn6y",
        "outputId": "c3fb2b2d-af28-4d5d-f927-aeb2e8efee68"
      },
      "execution_count": 25,
      "outputs": [
        {
          "output_type": "execute_result",
          "data": {
            "text/plain": [
              "array(['3', 'nama', 'True'], dtype='<U21')"
            ]
          },
          "metadata": {},
          "execution_count": 25
        }
      ]
    },
    {
      "cell_type": "markdown",
      "source": [
        "## 2D NUMPY ARRAY\n",
        "\n",
        "1. Array dapat berbentuk 2 dimensi\n",
        "2. Array 2D dibuat dengan mengkonversi list of list"
      ],
      "metadata": {
        "id": "TnsonYpel4wb"
      }
    },
    {
      "cell_type": "code",
      "source": [
        "var_list2 = [1, 2, 3, 4, 5, 6, 7, 8, 9, 10]\n",
        "var_array2 = np.array(var_list2)"
      ],
      "metadata": {
        "id": "8RZCEYZcl7hC"
      },
      "execution_count": 26,
      "outputs": []
    },
    {
      "cell_type": "code",
      "source": [
        "var_array2.shape # array masih 1D"
      ],
      "metadata": {
        "colab": {
          "base_uri": "https://localhost:8080/"
        },
        "id": "VA58Br0-my3T",
        "outputId": "2a42edad-7cc5-4620-c848-fed334612eba"
      },
      "execution_count": 27,
      "outputs": [
        {
          "output_type": "execute_result",
          "data": {
            "text/plain": [
              "(10,)"
            ]
          },
          "metadata": {},
          "execution_count": 27
        }
      ]
    },
    {
      "cell_type": "code",
      "source": [
        "# subset array 1D\n",
        "var_array2[2:5]"
      ],
      "metadata": {
        "colab": {
          "base_uri": "https://localhost:8080/"
        },
        "id": "64JC59xUoVqS",
        "outputId": "8252097a-0ed2-459d-c3d9-2aa43a571d88"
      },
      "execution_count": 28,
      "outputs": [
        {
          "output_type": "execute_result",
          "data": {
            "text/plain": [
              "array([3, 4, 5])"
            ]
          },
          "metadata": {},
          "execution_count": 28
        }
      ]
    },
    {
      "cell_type": "code",
      "source": [
        "# array 2D gunakan reshape\n",
        "var_array_reshape = var_array2.reshape(5, 2)\n",
        "var_array_reshape"
      ],
      "metadata": {
        "colab": {
          "base_uri": "https://localhost:8080/"
        },
        "id": "S3DUh4S4m258",
        "outputId": "012042b8-5689-4807-fec8-eb2dfb97caa6"
      },
      "execution_count": 29,
      "outputs": [
        {
          "output_type": "execute_result",
          "data": {
            "text/plain": [
              "array([[ 1,  2],\n",
              "       [ 3,  4],\n",
              "       [ 5,  6],\n",
              "       [ 7,  8],\n",
              "       [ 9, 10]])"
            ]
          },
          "metadata": {},
          "execution_count": 29
        }
      ]
    },
    {
      "cell_type": "code",
      "source": [
        "# cek dimensi array\n",
        "var_array_reshape.shape"
      ],
      "metadata": {
        "colab": {
          "base_uri": "https://localhost:8080/"
        },
        "id": "KbX2NyB7nApw",
        "outputId": "cbbf6d06-d553-447f-a522-0e7bec19f030"
      },
      "execution_count": 30,
      "outputs": [
        {
          "output_type": "execute_result",
          "data": {
            "text/plain": [
              "(5, 2)"
            ]
          },
          "metadata": {},
          "execution_count": 30
        }
      ]
    },
    {
      "cell_type": "code",
      "source": [
        "# subset array 2D\n",
        "var_array_reshape[1:3, :2]"
      ],
      "metadata": {
        "colab": {
          "base_uri": "https://localhost:8080/"
        },
        "id": "Y7ZMP78poglT",
        "outputId": "db52c723-fec2-4659-d25c-98f49bf36326"
      },
      "execution_count": 31,
      "outputs": [
        {
          "output_type": "execute_result",
          "data": {
            "text/plain": [
              "array([[3, 4],\n",
              "       [5, 6]])"
            ]
          },
          "metadata": {},
          "execution_count": 31
        }
      ]
    },
    {
      "cell_type": "code",
      "source": [
        "# Perkalian array\n",
        "var_array3 = var_array_reshape.reshape(2, 5)\n",
        "var_array3"
      ],
      "metadata": {
        "colab": {
          "base_uri": "https://localhost:8080/"
        },
        "id": "qMSuLaz9nQPm",
        "outputId": "cf03b809-3a7a-4259-a359-ea5951b0a29e"
      },
      "execution_count": 32,
      "outputs": [
        {
          "output_type": "execute_result",
          "data": {
            "text/plain": [
              "array([[ 1,  2,  3,  4,  5],\n",
              "       [ 6,  7,  8,  9, 10]])"
            ]
          },
          "metadata": {},
          "execution_count": 32
        }
      ]
    },
    {
      "cell_type": "code",
      "source": [
        "var_array_reshape"
      ],
      "metadata": {
        "colab": {
          "base_uri": "https://localhost:8080/"
        },
        "id": "OZHFWcu1thOW",
        "outputId": "f7405882-9297-41bd-db46-18a70e45b0f5"
      },
      "execution_count": 33,
      "outputs": [
        {
          "output_type": "execute_result",
          "data": {
            "text/plain": [
              "array([[ 1,  2],\n",
              "       [ 3,  4],\n",
              "       [ 5,  6],\n",
              "       [ 7,  8],\n",
              "       [ 9, 10]])"
            ]
          },
          "metadata": {},
          "execution_count": 33
        }
      ]
    },
    {
      "cell_type": "code",
      "source": [
        "var_array4 = np.matmul(var_array3, var_array_reshape)\n",
        "var_array4"
      ],
      "metadata": {
        "colab": {
          "base_uri": "https://localhost:8080/"
        },
        "id": "mTJ-AEpEtrIE",
        "outputId": "11df9918-16ec-454e-dcfa-c4b0a2da8590"
      },
      "execution_count": 34,
      "outputs": [
        {
          "output_type": "execute_result",
          "data": {
            "text/plain": [
              "array([[ 95, 110],\n",
              "       [220, 260]])"
            ]
          },
          "metadata": {},
          "execution_count": 34
        }
      ]
    },
    {
      "cell_type": "code",
      "source": [
        "arr_1 = np.array([1, 2, 3, 4]).reshape(2, 2)\n",
        "arr_2 = np.array([5, 6, 7, 8]).reshape(2, 2)\n",
        "arr_3 = np.matmul(arr_1, arr_2)\n",
        "arr_3"
      ],
      "metadata": {
        "colab": {
          "base_uri": "https://localhost:8080/"
        },
        "id": "bXuFgZpOtz_A",
        "outputId": "3c3ebf9a-b117-4707-997a-35e140886c5f"
      },
      "execution_count": 35,
      "outputs": [
        {
          "output_type": "execute_result",
          "data": {
            "text/plain": [
              "array([[19, 22],\n",
              "       [43, 50]])"
            ]
          },
          "metadata": {},
          "execution_count": 35
        }
      ]
    },
    {
      "cell_type": "code",
      "source": [
        "# perkalian array juga bisa menggunakan @\n",
        "arr_1 @ arr_2"
      ],
      "metadata": {
        "colab": {
          "base_uri": "https://localhost:8080/"
        },
        "id": "aZUjnbGDuJ97",
        "outputId": "de0c2f7e-35b2-41f3-ebb0-51678da199aa"
      },
      "execution_count": 36,
      "outputs": [
        {
          "output_type": "execute_result",
          "data": {
            "text/plain": [
              "array([[19, 22],\n",
              "       [43, 50]])"
            ]
          },
          "metadata": {},
          "execution_count": 36
        }
      ]
    },
    {
      "cell_type": "markdown",
      "source": [
        "## SUBSETTING 2D ARRAY\n",
        "\n",
        "1. Subset pada array 2D dilakukan dengan menuliskan row dan column (dihitung dari 0, 1, 2, dst) dengan format nama_array[nomor_row,nomor_column]\n",
        "2. Subset juga bisa dilakukan dgn menggunakan range row atau column (slicing)"
      ],
      "metadata": {
        "id": "S6KbaVQhv9sq"
      }
    },
    {
      "cell_type": "markdown",
      "source": [
        "## ANALISIS STATISTIKA DASAR PADA ARRAY\n",
        "\n",
        "Modul **numpy** memiliki fungsi utk menjalankan analisis statistic dasar seperti **min(), max(), sum(), mean(), media()**"
      ],
      "metadata": {
        "id": "pf0m3geOwwau"
      }
    },
    {
      "cell_type": "code",
      "source": [
        "var_array2"
      ],
      "metadata": {
        "colab": {
          "base_uri": "https://localhost:8080/"
        },
        "id": "Ai4LBRWjxUQp",
        "outputId": "47ee3227-5f7b-4a22-cdc4-c19c7d31b0ee"
      },
      "execution_count": 37,
      "outputs": [
        {
          "output_type": "execute_result",
          "data": {
            "text/plain": [
              "array([ 1,  2,  3,  4,  5,  6,  7,  8,  9, 10])"
            ]
          },
          "metadata": {},
          "execution_count": 37
        }
      ]
    },
    {
      "cell_type": "code",
      "source": [
        "np.mean(var_array2)"
      ],
      "metadata": {
        "colab": {
          "base_uri": "https://localhost:8080/"
        },
        "id": "zHzpLkeVxyUP",
        "outputId": "818f3d7e-86df-4505-965b-f8040b7bcae4"
      },
      "execution_count": 38,
      "outputs": [
        {
          "output_type": "execute_result",
          "data": {
            "text/plain": [
              "np.float64(5.5)"
            ]
          },
          "metadata": {},
          "execution_count": 38
        }
      ]
    },
    {
      "cell_type": "code",
      "source": [
        "var_array2.mean()"
      ],
      "metadata": {
        "colab": {
          "base_uri": "https://localhost:8080/"
        },
        "id": "Uf7022PAx2zb",
        "outputId": "668c3ed7-2cce-4428-983b-037452d67e57"
      },
      "execution_count": 39,
      "outputs": [
        {
          "output_type": "execute_result",
          "data": {
            "text/plain": [
              "np.float64(5.5)"
            ]
          },
          "metadata": {},
          "execution_count": 39
        }
      ]
    },
    {
      "cell_type": "code",
      "source": [
        "np.median(var_array2)"
      ],
      "metadata": {
        "colab": {
          "base_uri": "https://localhost:8080/"
        },
        "id": "gG1LoRl4x8wM",
        "outputId": "38a73603-500c-452f-9809-8b7ce82c54f6"
      },
      "execution_count": 40,
      "outputs": [
        {
          "output_type": "execute_result",
          "data": {
            "text/plain": [
              "np.float64(5.5)"
            ]
          },
          "metadata": {},
          "execution_count": 40
        }
      ]
    },
    {
      "cell_type": "code",
      "source": [
        "np.min(var_array2)"
      ],
      "metadata": {
        "colab": {
          "base_uri": "https://localhost:8080/"
        },
        "id": "0m_7E_UvyF7w",
        "outputId": "e4195693-e378-4721-9662-b93f8a95a76c"
      },
      "execution_count": 41,
      "outputs": [
        {
          "output_type": "execute_result",
          "data": {
            "text/plain": [
              "np.int64(1)"
            ]
          },
          "metadata": {},
          "execution_count": 41
        }
      ]
    },
    {
      "cell_type": "code",
      "source": [
        "np.max(var_array2)"
      ],
      "metadata": {
        "colab": {
          "base_uri": "https://localhost:8080/"
        },
        "id": "rciNJk8xyO6-",
        "outputId": "a19b6f34-b963-4188-ba6e-7335542d9a84"
      },
      "execution_count": 42,
      "outputs": [
        {
          "output_type": "execute_result",
          "data": {
            "text/plain": [
              "np.int64(10)"
            ]
          },
          "metadata": {},
          "execution_count": 42
        }
      ]
    },
    {
      "cell_type": "code",
      "source": [
        "np.std(var_array2)"
      ],
      "metadata": {
        "colab": {
          "base_uri": "https://localhost:8080/"
        },
        "id": "asn7v-3JycE8",
        "outputId": "68372aeb-e0ac-4056-a601-8752d55d6b05"
      },
      "execution_count": 43,
      "outputs": [
        {
          "output_type": "execute_result",
          "data": {
            "text/plain": [
              "np.float64(2.8722813232690143)"
            ]
          },
          "metadata": {},
          "execution_count": 43
        }
      ]
    },
    {
      "cell_type": "code",
      "source": [
        "np.var(var_array2)"
      ],
      "metadata": {
        "colab": {
          "base_uri": "https://localhost:8080/"
        },
        "id": "25JOXMAVyfKb",
        "outputId": "5d736361-0392-47af-b6b6-9fe698c94e12"
      },
      "execution_count": 44,
      "outputs": [
        {
          "output_type": "execute_result",
          "data": {
            "text/plain": [
              "np.float64(8.25)"
            ]
          },
          "metadata": {},
          "execution_count": 44
        }
      ]
    },
    {
      "cell_type": "code",
      "source": [
        "np.sum(var_array2)"
      ],
      "metadata": {
        "colab": {
          "base_uri": "https://localhost:8080/"
        },
        "id": "YNFwe_Xlygun",
        "outputId": "f1c52349-0dad-4a53-aaf6-f455aa9b27e6"
      },
      "execution_count": 45,
      "outputs": [
        {
          "output_type": "execute_result",
          "data": {
            "text/plain": [
              "np.int64(55)"
            ]
          },
          "metadata": {},
          "execution_count": 45
        }
      ]
    },
    {
      "cell_type": "markdown",
      "source": [],
      "metadata": {
        "id": "1lk60ljbY2iw"
      }
    },
    {
      "cell_type": "markdown",
      "source": [
        "### ARRAY GENERATOR\n",
        "\n",
        "Modul **Numpy** memiliki beberapa fungsi untuk mengenerate array <br>\n",
        "**np.random.rand()** -> generate array dengan angka float 0-1 <br>\n",
        "**np.random.randint()** -> generate array dengan angka integer <br>\n",
        "**np.arrange** -> generate array dengan menentukan jarak antar angkanya <br>\n",
        "**np.linspace** -> generate array dengan menentukan jumlah angka yang diinginkan dalam array dengan jarak yang konstan"
      ],
      "metadata": {
        "id": "Glcuja24Y2zP"
      }
    },
    {
      "cell_type": "code",
      "source": [
        "# rand()\n",
        "np.random .rand(10) * 100 # mengambil nilai random dari rentang 0-100 dgn jlh 10 data"
      ],
      "metadata": {
        "colab": {
          "base_uri": "https://localhost:8080/"
        },
        "id": "LV3WuW4HZoDp",
        "outputId": "7620360d-2b3b-4989-9d91-91e5ad914b80"
      },
      "execution_count": 48,
      "outputs": [
        {
          "output_type": "execute_result",
          "data": {
            "text/plain": [
              "array([48.05196059, 31.2483157 , 63.05458287, 99.8205797 , 78.72220106,\n",
              "        0.36162311, 77.19518487, 71.75727399, 64.41686467, 80.91093075])"
            ]
          },
          "metadata": {},
          "execution_count": 48
        }
      ]
    },
    {
      "cell_type": "code",
      "source": [
        "# rand()\n",
        "np.random.rand(10) * 20 + 20 # mengambil nilai random dari rentang 20-40 dgn jlh data 10"
      ],
      "metadata": {
        "colab": {
          "base_uri": "https://localhost:8080/"
        },
        "id": "V5wAWsCEahWA",
        "outputId": "a66e8f2d-798b-4df2-e1cc-82c32a09fd32"
      },
      "execution_count": 51,
      "outputs": [
        {
          "output_type": "execute_result",
          "data": {
            "text/plain": [
              "array([31.92707226, 36.52084237, 20.02305562, 24.02895742, 30.3738772 ,\n",
              "       26.67160505, 33.18189574, 37.33699361, 38.95130384, 35.49352477])"
            ]
          },
          "metadata": {},
          "execution_count": 51
        }
      ]
    },
    {
      "cell_type": "code",
      "source": [
        "# rand()\n",
        "np.random.rand(10) * 100 + 100 # mengambil nilai random dari rentang 100-200 dgn jlh data 10"
      ],
      "metadata": {
        "colab": {
          "base_uri": "https://localhost:8080/"
        },
        "id": "030RlAhwa-6H",
        "outputId": "03260920-081d-41f8-c6e6-fde8c893f613"
      },
      "execution_count": 53,
      "outputs": [
        {
          "output_type": "execute_result",
          "data": {
            "text/plain": [
              "array([177.34768431, 109.23373963, 185.0191124 , 179.61925832,\n",
              "       197.99468603, 198.45559624, 164.02758935, 177.83293744,\n",
              "       145.46672018, 101.56799415])"
            ]
          },
          "metadata": {},
          "execution_count": 53
        }
      ]
    },
    {
      "cell_type": "code",
      "source": [
        "# randint()\n",
        "# 10->batas bawah, 90->batas atas, 5->jlh data\n",
        "np.random.randint(10, 90, 5)"
      ],
      "metadata": {
        "colab": {
          "base_uri": "https://localhost:8080/"
        },
        "id": "UiB2Nc0Qb4hF",
        "outputId": "891d6b5a-7b58-4a05-9514-144ca12f79e7"
      },
      "execution_count": 55,
      "outputs": [
        {
          "output_type": "execute_result",
          "data": {
            "text/plain": [
              "array([73, 16, 52, 54, 47])"
            ]
          },
          "metadata": {},
          "execution_count": 55
        }
      ]
    },
    {
      "cell_type": "code",
      "source": [
        "# arange()\n",
        "# 0->batas bawah, 100->batas atas, 2->interval/jarak antar data\n",
        "np.arange(0, 102, 2)"
      ],
      "metadata": {
        "colab": {
          "base_uri": "https://localhost:8080/"
        },
        "id": "U8dl9xd-cGMH",
        "outputId": "f66cdbcb-9bc6-45ac-a57d-c17888e578ae"
      },
      "execution_count": 62,
      "outputs": [
        {
          "output_type": "execute_result",
          "data": {
            "text/plain": [
              "array([  0,   2,   4,   6,   8,  10,  12,  14,  16,  18,  20,  22,  24,\n",
              "        26,  28,  30,  32,  34,  36,  38,  40,  42,  44,  46,  48,  50,\n",
              "        52,  54,  56,  58,  60,  62,  64,  66,  68,  70,  72,  74,  76,\n",
              "        78,  80,  82,  84,  86,  88,  90,  92,  94,  96,  98, 100])"
            ]
          },
          "metadata": {},
          "execution_count": 62
        }
      ]
    },
    {
      "cell_type": "code",
      "source": [
        "# linspace()\n",
        "# 0->batas bawah, 100->batas atas, 51->banyak data\n",
        "np.linspace(0, 100, 51)"
      ],
      "metadata": {
        "colab": {
          "base_uri": "https://localhost:8080/"
        },
        "id": "uVzmzr6Fcin1",
        "outputId": "77e3a9f7-274b-44d3-815e-2486a46316a6"
      },
      "execution_count": 64,
      "outputs": [
        {
          "output_type": "execute_result",
          "data": {
            "text/plain": [
              "array([  0.,   2.,   4.,   6.,   8.,  10.,  12.,  14.,  16.,  18.,  20.,\n",
              "        22.,  24.,  26.,  28.,  30.,  32.,  34.,  36.,  38.,  40.,  42.,\n",
              "        44.,  46.,  48.,  50.,  52.,  54.,  56.,  58.,  60.,  62.,  64.,\n",
              "        66.,  68.,  70.,  72.,  74.,  76.,  78.,  80.,  82.,  84.,  86.,\n",
              "        88.,  90.,  92.,  94.,  96.,  98., 100.])"
            ]
          },
          "metadata": {},
          "execution_count": 64
        }
      ]
    },
    {
      "cell_type": "code",
      "source": [
        "(np.arange(0, 102, 2) == np.linspace(0, 100, 51))"
      ],
      "metadata": {
        "colab": {
          "base_uri": "https://localhost:8080/"
        },
        "id": "Ijzehjy8dWbn",
        "outputId": "7b64d920-8a69-48f6-c142-edb1001947b6"
      },
      "execution_count": 67,
      "outputs": [
        {
          "output_type": "execute_result",
          "data": {
            "text/plain": [
              "array([ True,  True,  True,  True,  True,  True,  True,  True,  True,\n",
              "        True,  True,  True,  True,  True,  True,  True,  True,  True,\n",
              "        True,  True,  True,  True,  True,  True,  True,  True,  True,\n",
              "        True,  True,  True,  True,  True,  True,  True,  True,  True,\n",
              "        True,  True,  True,  True,  True,  True,  True,  True,  True,\n",
              "        True,  True,  True,  True,  True,  True])"
            ]
          },
          "metadata": {},
          "execution_count": 67
        }
      ]
    },
    {
      "cell_type": "code",
      "source": [
        "(np.arange(0, 102, 2) == np.linspace(0, 100, 51)).all()"
      ],
      "metadata": {
        "colab": {
          "base_uri": "https://localhost:8080/"
        },
        "id": "Vsd6JzoLeHN4",
        "outputId": "5ad2bec9-5f25-40a0-d8ea-6b1eb5796945"
      },
      "execution_count": 68,
      "outputs": [
        {
          "output_type": "execute_result",
          "data": {
            "text/plain": [
              "np.True_"
            ]
          },
          "metadata": {},
          "execution_count": 68
        }
      ]
    },
    {
      "cell_type": "code",
      "source": [
        "import numpy as np\n",
        "\n",
        "a = [0, 1, 2, 3]\n",
        "b = [2, 0, 9, 2]\n",
        "\n",
        "# Buat 2D array \"c\" dari 2 list tsb\n",
        "c = np.array([a, b])\n",
        "c"
      ],
      "metadata": {
        "colab": {
          "base_uri": "https://localhost:8080/"
        },
        "id": "mVvZ_EGYeOsu",
        "outputId": "629dc122-43b5-4318-bde4-d5036d9e0b27"
      },
      "execution_count": 71,
      "outputs": [
        {
          "output_type": "execute_result",
          "data": {
            "text/plain": [
              "array([[0, 1, 2, 3],\n",
              "       [2, 0, 9, 2]])"
            ]
          },
          "metadata": {},
          "execution_count": 71
        }
      ]
    },
    {
      "cell_type": "code",
      "source": [
        "# Subset data pada posisi row 1 dan kolom 3 dari array yg dibuat\n",
        "subset_c = c[1, 3]\n",
        "subset_c"
      ],
      "metadata": {
        "colab": {
          "base_uri": "https://localhost:8080/"
        },
        "id": "Uy5oM11BfdsP",
        "outputId": "c051391d-56af-4565-f4c6-7e8581c5676b"
      },
      "execution_count": 72,
      "outputs": [
        {
          "output_type": "execute_result",
          "data": {
            "text/plain": [
              "np.int64(2)"
            ]
          },
          "metadata": {},
          "execution_count": 72
        }
      ]
    },
    {
      "cell_type": "code",
      "source": [
        "# Menentukan nilai mean dan median dari nilai yg ada di array\n",
        "# mean\n",
        "mean_c = np.mean(c)\n",
        "mean_c"
      ],
      "metadata": {
        "colab": {
          "base_uri": "https://localhost:8080/"
        },
        "id": "GGOKAQ_3f8ph",
        "outputId": "ade1727e-1346-40f1-b971-9aeda3b413a2"
      },
      "execution_count": 76,
      "outputs": [
        {
          "output_type": "execute_result",
          "data": {
            "text/plain": [
              "np.float64(2.375)"
            ]
          },
          "metadata": {},
          "execution_count": 76
        }
      ]
    },
    {
      "cell_type": "code",
      "source": [
        "# median\n",
        "median_c = np.median(c)\n",
        "median_c"
      ],
      "metadata": {
        "colab": {
          "base_uri": "https://localhost:8080/"
        },
        "id": "L1X_OKaagWwI",
        "outputId": "e666bdac-ca47-4782-806f-3380626c59e4"
      },
      "execution_count": 77,
      "outputs": [
        {
          "output_type": "execute_result",
          "data": {
            "text/plain": [
              "np.float64(2.0)"
            ]
          },
          "metadata": {},
          "execution_count": 77
        }
      ]
    },
    {
      "cell_type": "code",
      "source": [
        "# convert array 2D to 1D\n",
        "c.flatten()"
      ],
      "metadata": {
        "colab": {
          "base_uri": "https://localhost:8080/"
        },
        "id": "SfB9PXiZgcQw",
        "outputId": "7ad9cc5e-ff97-4a27-a375-5bddab5a9730"
      },
      "execution_count": 78,
      "outputs": [
        {
          "output_type": "execute_result",
          "data": {
            "text/plain": [
              "array([0, 1, 2, 3, 2, 0, 9, 2])"
            ]
          },
          "metadata": {},
          "execution_count": 78
        }
      ]
    },
    {
      "cell_type": "code",
      "source": [
        "# Generate array berisi 10 float dgn range 1250-1500\n",
        "arr_float = np.random.rand(10) * 250 + 1250\n",
        "arr_float"
      ],
      "metadata": {
        "colab": {
          "base_uri": "https://localhost:8080/"
        },
        "id": "gogCidzSh1IP",
        "outputId": "ac262f9d-b4b2-46cf-c719-4a37658e040b"
      },
      "execution_count": 80,
      "outputs": [
        {
          "output_type": "execute_result",
          "data": {
            "text/plain": [
              "array([1357.39244221, 1340.46847736, 1282.94562151, 1387.25354294,\n",
              "       1399.17065279, 1345.27919087, 1252.63623588, 1376.23697196,\n",
              "       1328.31826947, 1265.65378212])"
            ]
          },
          "metadata": {},
          "execution_count": 80
        }
      ]
    },
    {
      "cell_type": "code",
      "source": [
        "# Generate array berisi 10 integer dgn range 0-10\n",
        "arr_int = np.random.randint(0, 10, 10)\n",
        "arr_int"
      ],
      "metadata": {
        "colab": {
          "base_uri": "https://localhost:8080/"
        },
        "id": "XIXzdtUHizaP",
        "outputId": "b89dacdf-3af5-4190-aa85-13cd6b9ca964"
      },
      "execution_count": 92,
      "outputs": [
        {
          "output_type": "execute_result",
          "data": {
            "text/plain": [
              "array([5, 9, 9, 4, 1, 4, 8, 2, 4, 5])"
            ]
          },
          "metadata": {},
          "execution_count": 92
        }
      ]
    },
    {
      "cell_type": "code",
      "source": [
        "# Generate array berisi angka dgn range 0-10 dgn jarak antar angkanya 2\n",
        "arr_arange = np.arange(0, 10, 2)\n",
        "arr_arange"
      ],
      "metadata": {
        "colab": {
          "base_uri": "https://localhost:8080/"
        },
        "id": "xCY1UswfjM2B",
        "outputId": "09fd56f4-bf4b-4ada-8a8c-49cf8941dbbc"
      },
      "execution_count": 93,
      "outputs": [
        {
          "output_type": "execute_result",
          "data": {
            "text/plain": [
              "array([0, 2, 4, 6, 8])"
            ]
          },
          "metadata": {},
          "execution_count": 93
        }
      ]
    },
    {
      "cell_type": "code",
      "source": [
        "# Generate array berisi 5 angka dgn range 0-10 dgn jarak antar angka yg tetap\n",
        "arr_linspace = np.linspace(0, 10, 5)\n",
        "arr_linspace"
      ],
      "metadata": {
        "colab": {
          "base_uri": "https://localhost:8080/"
        },
        "id": "q_2MpFIdjiNd",
        "outputId": "e2011426-63ae-4206-9acf-03450d67b1c3"
      },
      "execution_count": 89,
      "outputs": [
        {
          "output_type": "execute_result",
          "data": {
            "text/plain": [
              "array([ 0. ,  2.5,  5. ,  7.5, 10. ])"
            ]
          },
          "metadata": {},
          "execution_count": 89
        }
      ]
    }
  ]
}