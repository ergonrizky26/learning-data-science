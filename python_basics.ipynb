{
  "nbformat": 4,
  "nbformat_minor": 0,
  "metadata": {
    "colab": {
      "provenance": [],
      "authorship_tag": "ABX9TyMWhfFuS+JbiJN2KNm5oQ9n",
      "include_colab_link": true
    },
    "kernelspec": {
      "name": "python3",
      "display_name": "Python 3"
    },
    "language_info": {
      "name": "python"
    }
  },
  "cells": [
    {
      "cell_type": "markdown",
      "metadata": {
        "id": "view-in-github",
        "colab_type": "text"
      },
      "source": [
        "<a href=\"https://colab.research.google.com/github/ergonrizky26/learning-data-science/blob/main/python_basics.ipynb\" target=\"_parent\"><img src=\"https://colab.research.google.com/assets/colab-badge.svg\" alt=\"Open In Colab\"/></a>"
      ]
    },
    {
      "cell_type": "markdown",
      "source": [
        "## FUNGSI\n",
        "\n",
        "**Fungsi** adalah kode yang digunakan untuk menjalankan suatu aksi\n",
        "Contoh fungsi adalah **print()** yang digunakan untuk menampilkan argumen pada output"
      ],
      "metadata": {
        "id": "ddLUbu3n7a_u"
      }
    },
    {
      "cell_type": "code",
      "source": [
        "print('Ergon Rizky')"
      ],
      "metadata": {
        "colab": {
          "base_uri": "https://localhost:8080/"
        },
        "id": "9hcUjKaX8Cs6",
        "outputId": "e9cd0e77-9143-4711-ab39-c49a67045e4c"
      },
      "execution_count": null,
      "outputs": [
        {
          "output_type": "stream",
          "name": "stdout",
          "text": [
            "Ergon Rizky\n"
          ]
        }
      ]
    },
    {
      "cell_type": "code",
      "source": [
        "print('17 Maret 2025')"
      ],
      "metadata": {
        "colab": {
          "base_uri": "https://localhost:8080/"
        },
        "id": "DAW42mVN8QKC",
        "outputId": "c029813b-49de-40be-bbb0-269100745054"
      },
      "execution_count": null,
      "outputs": [
        {
          "output_type": "stream",
          "name": "stdout",
          "text": [
            "17 Maret 2025\n"
          ]
        }
      ]
    },
    {
      "cell_type": "code",
      "source": [
        "print(100/10)"
      ],
      "metadata": {
        "colab": {
          "base_uri": "https://localhost:8080/"
        },
        "id": "s_MJ4VMC8TZS",
        "outputId": "bc4a206e-0e62-44a6-cb2c-709dfc185cc3"
      },
      "execution_count": null,
      "outputs": [
        {
          "output_type": "stream",
          "name": "stdout",
          "text": [
            "10.0\n"
          ]
        }
      ]
    },
    {
      "cell_type": "code",
      "source": [
        "print(2*5)"
      ],
      "metadata": {
        "colab": {
          "base_uri": "https://localhost:8080/"
        },
        "id": "ns8m_t9R8U1h",
        "outputId": "5ca70171-3373-46d2-b641-0f1f71dc50a4"
      },
      "execution_count": null,
      "outputs": [
        {
          "output_type": "stream",
          "name": "stdout",
          "text": [
            "10\n"
          ]
        }
      ]
    },
    {
      "cell_type": "code",
      "source": [
        "print(type(100/10))"
      ],
      "metadata": {
        "colab": {
          "base_uri": "https://localhost:8080/"
        },
        "id": "xK44V8zA8Wa9",
        "outputId": "16bd88b2-4d69-4d6d-c904-cf95169c0ed6"
      },
      "execution_count": null,
      "outputs": [
        {
          "output_type": "stream",
          "name": "stdout",
          "text": [
            "<class 'float'>\n"
          ]
        }
      ]
    },
    {
      "cell_type": "code",
      "source": [
        "print(len('Ergon Rizky'))"
      ],
      "metadata": {
        "colab": {
          "base_uri": "https://localhost:8080/"
        },
        "id": "Vd45E2ZD8YfY",
        "outputId": "26b5f843-2d6b-4840-a961-77cdc1eeddca"
      },
      "execution_count": null,
      "outputs": [
        {
          "output_type": "stream",
          "name": "stdout",
          "text": [
            "11\n"
          ]
        }
      ]
    },
    {
      "cell_type": "markdown",
      "source": [],
      "metadata": {
        "id": "1gsE68G_84Cn"
      }
    },
    {
      "cell_type": "markdown",
      "source": [
        "## VARIABEL\n",
        "\n",
        "**Variabel** adalah container yang dipakai untuk menyimpan data. Variabel dipakai agar tidak perlu mengulang menuliskan data setiap akan menjalankan suatu fungsi terhadap data tersebut. Dibuat dengan menuliskan nama variabel diikutin dengan **'='**"
      ],
      "metadata": {
        "id": "vnnREewK84fm"
      }
    },
    {
      "cell_type": "code",
      "source": [
        "# Contoh variabel\n",
        "int_a = 10;\n",
        "float_a = 10.5;\n",
        "string_a = 'contoh string';\n",
        "boolean_a = True;"
      ],
      "metadata": {
        "id": "E3oOAfdUAVru"
      },
      "execution_count": null,
      "outputs": []
    },
    {
      "cell_type": "markdown",
      "source": [
        "## TIPE DATA\n",
        "\n",
        "Beberapa tipe data yang dikenal oleh **Python**:\n",
        "1. Integer -> Bilangan bulat\n",
        "2. Float -> Bilangan pecahan\n",
        "3. String -> Teks\n",
        "4. Boolean -> True/*False*"
      ],
      "metadata": {
        "id": "cWqvKYQR_eN-"
      }
    },
    {
      "cell_type": "code",
      "source": [
        "# Identifikasi tipe data\n",
        "print(type(int_a))\n",
        "print(type(float_a))\n",
        "print(type(string_a))\n",
        "print(type(boolean_a))"
      ],
      "metadata": {
        "colab": {
          "base_uri": "https://localhost:8080/"
        },
        "id": "93uPngGq_mG_",
        "outputId": "2cf9482a-aac5-4d81-d2c5-2098d5cb3379"
      },
      "execution_count": null,
      "outputs": [
        {
          "output_type": "stream",
          "name": "stdout",
          "text": [
            "<class 'int'>\n",
            "<class 'float'>\n",
            "<class 'str'>\n",
            "<class 'bool'>\n"
          ]
        }
      ]
    },
    {
      "cell_type": "markdown",
      "source": [
        "## LIST\n",
        "\n",
        "**List** adalah kumpulan data yang terstruktur dengan urutan tertentu. Dibuat dengan menuliskan **'['** dan **']'** dan dipisahkan dengan **','**. Dalam list, tiap data memiliki index dengan urutan dari 0, 1, 2, dst"
      ],
      "metadata": {
        "id": "2rPAwmYlBaQO"
      }
    },
    {
      "cell_type": "markdown",
      "source": [
        "**Index** diperlukan untuk **subsetting** : mendidentifikasi/memanggil data dengan urutan tertentu dari list"
      ],
      "metadata": {
        "id": "cq6H_XufCKX0"
      }
    },
    {
      "cell_type": "code",
      "source": [
        "warna = ['merah', 'kuning', 'biru']\n",
        "warna[1]"
      ],
      "metadata": {
        "colab": {
          "base_uri": "https://localhost:8080/",
          "height": 35
        },
        "id": "6rFnbyx6CUhB",
        "outputId": "c17ad12a-23f9-4d51-9e8a-f2756135a184"
      },
      "execution_count": null,
      "outputs": [
        {
          "output_type": "execute_result",
          "data": {
            "text/plain": [
              "'kuning'"
            ],
            "application/vnd.google.colaboratory.intrinsic+json": {
              "type": "string"
            }
          },
          "metadata": {},
          "execution_count": 9
        }
      ]
    },
    {
      "cell_type": "code",
      "source": [
        "warna[-1] # Indeks -1 menunjukkan data dengan urutan terakhir"
      ],
      "metadata": {
        "colab": {
          "base_uri": "https://localhost:8080/",
          "height": 35
        },
        "id": "255rdHTVC1pn",
        "outputId": "c2a16e48-ec9a-4a9c-fae4-d04e9cf3fe15"
      },
      "execution_count": null,
      "outputs": [
        {
          "output_type": "execute_result",
          "data": {
            "text/plain": [
              "'biru'"
            ],
            "application/vnd.google.colaboratory.intrinsic+json": {
              "type": "string"
            }
          },
          "metadata": {},
          "execution_count": 10
        }
      ]
    },
    {
      "cell_type": "markdown",
      "source": [],
      "metadata": {
        "id": "2CgH71GbDH3Y"
      }
    },
    {
      "cell_type": "markdown",
      "source": [
        "## SLICING PADA LIST\n",
        "\n",
        "**Slicing** adalah proses memotong list dengan range indeks tertentu. Range indeks ditulis dengan **['indeks awal : 'indeks akhir']**. </br>\n",
        "Indeks awal akan diikutsertakan pada output, sedangkan Indeks akhir tidak diikutsertakan pada output."
      ],
      "metadata": {
        "id": "dRCHXF0NDIHW"
      }
    },
    {
      "cell_type": "markdown",
      "source": [
        "### Latihan List dan Slicing"
      ],
      "metadata": {
        "id": "4jG6wE6jEkg1"
      }
    },
    {
      "cell_type": "code",
      "source": [
        "nama = 'ergon rizky'\n",
        "jarak_km = 5\n",
        "jarak_mil = 5 * 0.62\n",
        "jarak_beda = jarak_km == jarak_mil\n",
        "\n",
        "print(type(nama))\n",
        "print(type(jarak_km))\n",
        "print(type(jarak_mil))\n",
        "print(type(jarak_beda))"
      ],
      "metadata": {
        "colab": {
          "base_uri": "https://localhost:8080/"
        },
        "id": "3bGfMSPGEmJF",
        "outputId": "1ddf32d7-378d-4682-cdf2-87b83cf42090"
      },
      "execution_count": null,
      "outputs": [
        {
          "output_type": "stream",
          "name": "stdout",
          "text": [
            "<class 'str'>\n",
            "<class 'int'>\n",
            "<class 'float'>\n",
            "<class 'bool'>\n"
          ]
        }
      ]
    },
    {
      "cell_type": "code",
      "source": [
        "list_a = [nama, jarak_km, jarak_mil, jarak_beda]\n",
        "list_a"
      ],
      "metadata": {
        "colab": {
          "base_uri": "https://localhost:8080/"
        },
        "id": "9XxvX6YhE55A",
        "outputId": "e6c82224-b5f5-490a-c9f5-f2938ecd1a02"
      },
      "execution_count": null,
      "outputs": [
        {
          "output_type": "execute_result",
          "data": {
            "text/plain": [
              "['ergon rizky', 5, 3.1, False]"
            ]
          },
          "metadata": {},
          "execution_count": 12
        }
      ]
    },
    {
      "cell_type": "code",
      "source": [
        "# Slice 2 data terakhir\n",
        "list_a[2:]"
      ],
      "metadata": {
        "colab": {
          "base_uri": "https://localhost:8080/"
        },
        "id": "npUjK5aTFFEl",
        "outputId": "979f82fd-d8f7-40e3-8593-d0c32beaae04"
      },
      "execution_count": 16,
      "outputs": [
        {
          "output_type": "execute_result",
          "data": {
            "text/plain": [
              "[3.1, False]"
            ]
          },
          "metadata": {},
          "execution_count": 16
        }
      ]
    },
    {
      "cell_type": "code",
      "source": [
        "# Slice 2 data pertama\n",
        "list_a[:2]"
      ],
      "metadata": {
        "colab": {
          "base_uri": "https://localhost:8080/"
        },
        "id": "fJMwA3KhFZER",
        "outputId": "d3aa4d3f-f747-4355-e39e-12150de5692c"
      },
      "execution_count": 17,
      "outputs": [
        {
          "output_type": "execute_result",
          "data": {
            "text/plain": [
              "['ergon rizky', 5]"
            ]
          },
          "metadata": {},
          "execution_count": 17
        }
      ]
    },
    {
      "cell_type": "markdown",
      "source": [],
      "metadata": {
        "id": "WapgxUUL1bW2"
      }
    },
    {
      "cell_type": "markdown",
      "source": [
        "## METODE\n",
        "\n",
        "**Metode** adalah fungsi yang dimiliki oleh objek <br>\n",
        "1. Contoh metode yg dimiliki oleh objek string :\n",
        "-> **upper()** <br>\n",
        "-> **count()** <br>\n",
        "2. Contoh metode yg dimiliki oleh objek list :    \n",
        "-> **index()** <br>\n",
        "-> **count()**\n"
      ],
      "metadata": {
        "id": "TEmbu1rZ1bq-"
      }
    },
    {
      "cell_type": "code",
      "source": [
        "var_string = 'Belajar python'\n",
        "\n",
        "# upper()\n",
        "print(var_string.upper())\n",
        "\n",
        "# count()\n",
        "print(var_string.count('a'))"
      ],
      "metadata": {
        "colab": {
          "base_uri": "https://localhost:8080/"
        },
        "id": "i_CRTCIu1n2z",
        "outputId": "2c241d08-f206-499a-e13b-fb8399a17f3a"
      },
      "execution_count": 19,
      "outputs": [
        {
          "output_type": "stream",
          "name": "stdout",
          "text": [
            "BELAJAR PYTHON\n",
            "2\n"
          ]
        }
      ]
    },
    {
      "cell_type": "code",
      "source": [
        "var_list = ['merah', 'kuning', 'hijau', 'biru']\n",
        "\n",
        "# index()\n",
        "var_list.index('kuning')\n",
        "\n",
        "# count()\n",
        "var_list.count('merah')"
      ],
      "metadata": {
        "colab": {
          "base_uri": "https://localhost:8080/"
        },
        "id": "6jQ6NPKQ3YUV",
        "outputId": "d6d11cd5-0e96-4933-8cc2-a3744337daac"
      },
      "execution_count": 20,
      "outputs": [
        {
          "output_type": "execute_result",
          "data": {
            "text/plain": [
              "1"
            ]
          },
          "metadata": {},
          "execution_count": 20
        }
      ]
    },
    {
      "cell_type": "markdown",
      "source": [
        "## MENGIMPOR MODUL\n",
        "\n",
        "**Modul** adalah file berisikan kumpulan definisi dan pernyataan python\n",
        "<br>\n",
        "1. Modul perlu diimpor untuk mengakses definisi yang terdapat didalamnya <br>\n",
        "2. Contoh modul **math** yg didalamnya terdapat definisi konstanta **pi**\n",
        "<br>\n",
        "3. Modul juga bisa diimpor secara selektif, dimana hanya definisi atau pernyataan tertentu yg diimpor"
      ],
      "metadata": {
        "id": "FqwPzMog4u7h"
      }
    },
    {
      "cell_type": "code",
      "source": [
        "import math\n",
        "math.pi"
      ],
      "metadata": {
        "colab": {
          "base_uri": "https://localhost:8080/"
        },
        "id": "kLPi1gaz5XCL",
        "outputId": "2f0c491a-cfc1-46f0-aa96-edbdc8ce971b"
      },
      "execution_count": 21,
      "outputs": [
        {
          "output_type": "execute_result",
          "data": {
            "text/plain": [
              "3.141592653589793"
            ]
          },
          "metadata": {},
          "execution_count": 21
        }
      ]
    },
    {
      "cell_type": "code",
      "source": [
        "import math as mt\n",
        "mt.pi"
      ],
      "metadata": {
        "colab": {
          "base_uri": "https://localhost:8080/"
        },
        "id": "J9sDV4Zf6OBT",
        "outputId": "c6a033c6-b68f-455e-b66b-692ba37f05c3"
      },
      "execution_count": 22,
      "outputs": [
        {
          "output_type": "execute_result",
          "data": {
            "text/plain": [
              "3.141592653589793"
            ]
          },
          "metadata": {},
          "execution_count": 22
        }
      ]
    },
    {
      "cell_type": "code",
      "source": [
        "from math import pi\n",
        "pi"
      ],
      "metadata": {
        "colab": {
          "base_uri": "https://localhost:8080/"
        },
        "id": "iAAKrSD06RyA",
        "outputId": "1fd3443d-66aa-46b8-ac77-9e27e38521dc"
      },
      "execution_count": 23,
      "outputs": [
        {
          "output_type": "execute_result",
          "data": {
            "text/plain": [
              "3.141592653589793"
            ]
          },
          "metadata": {},
          "execution_count": 23
        }
      ]
    },
    {
      "cell_type": "code",
      "source": [
        "# Penggunaan pi utk menghitung volume lingkaran\n",
        "r = 12\n",
        "vol_bola = 4/3 * pi * r ** 3\n",
        "print('Volume bola adalah {} cm^3'.format(vol_bola))"
      ],
      "metadata": {
        "colab": {
          "base_uri": "https://localhost:8080/"
        },
        "id": "rPa4K8LG6UEK",
        "outputId": "9062d37d-6aed-45e3-f897-82d72bb960e5"
      },
      "execution_count": 27,
      "outputs": [
        {
          "output_type": "stream",
          "name": "stdout",
          "text": [
            "Volume bola adalah 7238.229473870882 cm^3\n"
          ]
        }
      ]
    },
    {
      "cell_type": "code",
      "source": [
        "# Penggunaan sqrt utk menghitung sisi miring segitiga siku-siku\n",
        "from math import sqrt\n",
        "\n",
        "a = 3\n",
        "b = 4\n",
        "c = sqrt(a**2 + b**2)\n",
        "print('Sisi miring segitiga siku-siku adalah {} cm'.format(c))"
      ],
      "metadata": {
        "colab": {
          "base_uri": "https://localhost:8080/"
        },
        "id": "E-zYYrnf6_-A",
        "outputId": "22a90c97-55fa-4132-e2b5-940f8241bf5e"
      },
      "execution_count": 29,
      "outputs": [
        {
          "output_type": "stream",
          "name": "stdout",
          "text": [
            "Sisi miring segitiga siku-siku adalah 5.0 cm\n"
          ]
        }
      ]
    },
    {
      "cell_type": "markdown",
      "source": [],
      "metadata": {
        "id": "SiF4tZ4o9JTY"
      }
    },
    {
      "cell_type": "markdown",
      "source": [
        "## NUMPY ARRAY\n",
        "\n",
        "**Numpy** adalah modul pada python yg dapat membuat dan mengolah struktur data array <br>\n",
        "1. Elemen array bersifat homogen (satu tipe) <br>\n",
        "2. Struktur data array optimal untuk analisis numerik <br>\n",
        "3. Data array dapat dibuat dari list <br>\n",
        "4. Operasi aritmatik dapat dilakukan pada data array <br>"
      ],
      "metadata": {
        "id": "EIAQNgTu9JrJ"
      }
    },
    {
      "cell_type": "code",
      "source": [],
      "metadata": {
        "id": "Jl2cJ9mG9uDm"
      },
      "execution_count": null,
      "outputs": []
    }
  ]
}